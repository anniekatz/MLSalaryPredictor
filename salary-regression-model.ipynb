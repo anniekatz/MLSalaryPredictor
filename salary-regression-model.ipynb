{
 "cells": [
  {
   "cell_type": "markdown",
   "id": "25fe8890",
   "metadata": {},
   "source": [
    "# Salary Prediction Model: Random Forest Regression\n",
    "## Predicting a tech worker's annual compensation based on their job attributes\n",
    "Sections:\n",
    "1. Problem Definition and Business Need\n",
    "2. Data\n",
    "3. Modeling\n",
    "4. Model Tuning\n",
    "5. Evaluation\n",
    "6. Try It Yourself"
   ]
  },
  {
   "cell_type": "markdown",
   "id": "1d46a0f9",
   "metadata": {},
   "source": [
    "# Problem Definition and Business Need\n",
    "\n",
    "Our goal is to build a machine learning model that can predict the annual compensation of a tech worker based on their location, company, job title, designated market area, years of experience, years at that company, and education.\n",
    "\n",
    "Our data comes from a Kaggle dataset CSV that uses levels.fyi survey information. \n",
    "\n",
    "The model chosen is Sklearn's Random Forest Regression.\n",
    "\n",
    "Our goal metrics:\n",
    "* Coefficient of Determination (R^2) > 0.65\n",
    "* Mean Absolute Error (Average prediction error in USD) < 30,000\n",
    "* Root Mean Squared Log Error (Relative ratio of predictions vs actual values) < 0.8"
   ]
  },
  {
   "cell_type": "code",
   "execution_count": 1,
   "id": "87ef6c99",
   "metadata": {},
   "outputs": [],
   "source": [
    "# Libraries and methods used\n",
    "# Please ensure the following libraries are installed in your environment prior to running\n",
    "import numpy as np\n",
    "import pandas as pd\n",
    "import matplotlib.pyplot as plt\n",
    "# make visualizations appear inside notebook\n",
    "%matplotlib inline\n",
    "\n",
    "# Model and metrics\n",
    "from sklearn.ensemble import RandomForestRegressor\n",
    "from sklearn.model_selection import train_test_split, cross_val_score, RandomizedSearchCV, GridSearchCV\n",
    "from sklearn.metrics import mean_squared_log_error, mean_absolute_error, r2_score"
   ]
  },
  {
   "cell_type": "markdown",
   "id": "f3f6730d",
   "metadata": {},
   "source": [
    "# Data\n",
    "In this section, we import, clean, and visualize our data."
   ]
  },
  {
   "cell_type": "code",
   "execution_count": 2,
   "id": "1179f7bb",
   "metadata": {},
   "outputs": [
    {
     "data": {
      "text/html": [
       "<div>\n",
       "<style scoped>\n",
       "    .dataframe tbody tr th:only-of-type {\n",
       "        vertical-align: middle;\n",
       "    }\n",
       "\n",
       "    .dataframe tbody tr th {\n",
       "        vertical-align: top;\n",
       "    }\n",
       "\n",
       "    .dataframe thead th {\n",
       "        text-align: right;\n",
       "    }\n",
       "</style>\n",
       "<table border=\"1\" class=\"dataframe\">\n",
       "  <thead>\n",
       "    <tr style=\"text-align: right;\">\n",
       "      <th></th>\n",
       "      <th>company</th>\n",
       "      <th>level</th>\n",
       "      <th>title</th>\n",
       "      <th>annualcomp</th>\n",
       "      <th>location</th>\n",
       "      <th>yearsofexperience</th>\n",
       "      <th>yearsatcompany</th>\n",
       "      <th>cityid</th>\n",
       "      <th>dmaid</th>\n",
       "      <th>education</th>\n",
       "    </tr>\n",
       "  </thead>\n",
       "  <tbody>\n",
       "    <tr>\n",
       "      <th>0</th>\n",
       "      <td>Facebook</td>\n",
       "      <td>E9</td>\n",
       "      <td>Product Manager</td>\n",
       "      <td>4980000</td>\n",
       "      <td>Menlo Park, CA</td>\n",
       "      <td>17.0</td>\n",
       "      <td>0.0</td>\n",
       "      <td>7300</td>\n",
       "      <td>807.0</td>\n",
       "      <td>Master's Degree</td>\n",
       "    </tr>\n",
       "    <tr>\n",
       "      <th>1</th>\n",
       "      <td>Microsoft</td>\n",
       "      <td>80</td>\n",
       "      <td>Software Engineering Manager</td>\n",
       "      <td>4950000</td>\n",
       "      <td>Redmond, WA</td>\n",
       "      <td>24.0</td>\n",
       "      <td>8.0</td>\n",
       "      <td>11521</td>\n",
       "      <td>819.0</td>\n",
       "      <td>NaN</td>\n",
       "    </tr>\n",
       "    <tr>\n",
       "      <th>2</th>\n",
       "      <td>Google</td>\n",
       "      <td>L10</td>\n",
       "      <td>Product Manager</td>\n",
       "      <td>4500000</td>\n",
       "      <td>San Francisco, CA</td>\n",
       "      <td>20.0</td>\n",
       "      <td>14.0</td>\n",
       "      <td>7419</td>\n",
       "      <td>807.0</td>\n",
       "      <td>Master's Degree</td>\n",
       "    </tr>\n",
       "    <tr>\n",
       "      <th>3</th>\n",
       "      <td>Facebook</td>\n",
       "      <td>E9</td>\n",
       "      <td>Software Engineer</td>\n",
       "      <td>4490000</td>\n",
       "      <td>Menlo Park, CA</td>\n",
       "      <td>13.0</td>\n",
       "      <td>9.0</td>\n",
       "      <td>7300</td>\n",
       "      <td>807.0</td>\n",
       "      <td>NaN</td>\n",
       "    </tr>\n",
       "    <tr>\n",
       "      <th>4</th>\n",
       "      <td>Snap</td>\n",
       "      <td>L8</td>\n",
       "      <td>Software Engineering Manager</td>\n",
       "      <td>2500000</td>\n",
       "      <td>Los Angeles, CA</td>\n",
       "      <td>20.0</td>\n",
       "      <td>4.0</td>\n",
       "      <td>7275</td>\n",
       "      <td>803.0</td>\n",
       "      <td>NaN</td>\n",
       "    </tr>\n",
       "    <tr>\n",
       "      <th>...</th>\n",
       "      <td>...</td>\n",
       "      <td>...</td>\n",
       "      <td>...</td>\n",
       "      <td>...</td>\n",
       "      <td>...</td>\n",
       "      <td>...</td>\n",
       "      <td>...</td>\n",
       "      <td>...</td>\n",
       "      <td>...</td>\n",
       "      <td>...</td>\n",
       "    </tr>\n",
       "    <tr>\n",
       "      <th>62637</th>\n",
       "      <td>Tata Consultancy Services</td>\n",
       "      <td>L1</td>\n",
       "      <td>Software Engineer</td>\n",
       "      <td>10000</td>\n",
       "      <td>Noida, UP, India</td>\n",
       "      <td>2.0</td>\n",
       "      <td>2.0</td>\n",
       "      <td>42631</td>\n",
       "      <td>0.0</td>\n",
       "      <td>Bachelor's Degree</td>\n",
       "    </tr>\n",
       "    <tr>\n",
       "      <th>62638</th>\n",
       "      <td>Xendit</td>\n",
       "      <td>L3</td>\n",
       "      <td>Software Engineer</td>\n",
       "      <td>10000</td>\n",
       "      <td>Jakarta, JK, Indonesia</td>\n",
       "      <td>1.0</td>\n",
       "      <td>1.0</td>\n",
       "      <td>4010</td>\n",
       "      <td>0.0</td>\n",
       "      <td>Bachelor's Degree</td>\n",
       "    </tr>\n",
       "    <tr>\n",
       "      <th>62639</th>\n",
       "      <td>Manhattan Associates</td>\n",
       "      <td>Software Engineer</td>\n",
       "      <td>Software Engineer</td>\n",
       "      <td>10000</td>\n",
       "      <td>Bangalore, KA, India</td>\n",
       "      <td>4.0</td>\n",
       "      <td>4.0</td>\n",
       "      <td>4058</td>\n",
       "      <td>0.0</td>\n",
       "      <td>Bachelor's Degree</td>\n",
       "    </tr>\n",
       "    <tr>\n",
       "      <th>62640</th>\n",
       "      <td>Infosys</td>\n",
       "      <td>L4</td>\n",
       "      <td>Software Engineer</td>\n",
       "      <td>10000</td>\n",
       "      <td>Pune, MH, India</td>\n",
       "      <td>6.0</td>\n",
       "      <td>4.0</td>\n",
       "      <td>4062</td>\n",
       "      <td>0.0</td>\n",
       "      <td>Bachelor's Degree</td>\n",
       "    </tr>\n",
       "    <tr>\n",
       "      <th>62641</th>\n",
       "      <td>EPAM Systems</td>\n",
       "      <td>L2</td>\n",
       "      <td>Software Engineer</td>\n",
       "      <td>10000</td>\n",
       "      <td>Tashkent, TO, Uzbekistan</td>\n",
       "      <td>2.0</td>\n",
       "      <td>1.0</td>\n",
       "      <td>4959</td>\n",
       "      <td>0.0</td>\n",
       "      <td>Master's Degree</td>\n",
       "    </tr>\n",
       "  </tbody>\n",
       "</table>\n",
       "<p>62642 rows × 10 columns</p>\n",
       "</div>"
      ],
      "text/plain": [
       "                         company              level  \\\n",
       "0                       Facebook                 E9   \n",
       "1                      Microsoft                 80   \n",
       "2                         Google                L10   \n",
       "3                       Facebook                 E9   \n",
       "4                           Snap                 L8   \n",
       "...                          ...                ...   \n",
       "62637  Tata Consultancy Services                 L1   \n",
       "62638                     Xendit                 L3   \n",
       "62639       Manhattan Associates  Software Engineer   \n",
       "62640                    Infosys                 L4   \n",
       "62641               EPAM Systems                 L2   \n",
       "\n",
       "                              title  annualcomp                  location  \\\n",
       "0                   Product Manager     4980000            Menlo Park, CA   \n",
       "1      Software Engineering Manager     4950000               Redmond, WA   \n",
       "2                   Product Manager     4500000         San Francisco, CA   \n",
       "3                 Software Engineer     4490000            Menlo Park, CA   \n",
       "4      Software Engineering Manager     2500000           Los Angeles, CA   \n",
       "...                             ...         ...                       ...   \n",
       "62637             Software Engineer       10000          Noida, UP, India   \n",
       "62638             Software Engineer       10000    Jakarta, JK, Indonesia   \n",
       "62639             Software Engineer       10000      Bangalore, KA, India   \n",
       "62640             Software Engineer       10000           Pune, MH, India   \n",
       "62641             Software Engineer       10000  Tashkent, TO, Uzbekistan   \n",
       "\n",
       "       yearsofexperience  yearsatcompany  cityid  dmaid          education  \n",
       "0                   17.0             0.0    7300  807.0    Master's Degree  \n",
       "1                   24.0             8.0   11521  819.0                NaN  \n",
       "2                   20.0            14.0    7419  807.0    Master's Degree  \n",
       "3                   13.0             9.0    7300  807.0                NaN  \n",
       "4                   20.0             4.0    7275  803.0                NaN  \n",
       "...                  ...             ...     ...    ...                ...  \n",
       "62637                2.0             2.0   42631    0.0  Bachelor's Degree  \n",
       "62638                1.0             1.0    4010    0.0  Bachelor's Degree  \n",
       "62639                4.0             4.0    4058    0.0  Bachelor's Degree  \n",
       "62640                6.0             4.0    4062    0.0  Bachelor's Degree  \n",
       "62641                2.0             1.0    4959    0.0    Master's Degree  \n",
       "\n",
       "[62642 rows x 10 columns]"
      ]
     },
     "execution_count": 2,
     "metadata": {},
     "output_type": "execute_result"
    }
   ],
   "source": [
    "# Import CSV data into pandas dataframe and view\n",
    "df = pd.read_csv(\"./data/salary_data.csv\")\n",
    "df"
   ]
  },
  {
   "cell_type": "code",
   "execution_count": 3,
   "id": "785920c4",
   "metadata": {},
   "outputs": [
    {
     "data": {
      "text/html": [
       "<div>\n",
       "<style scoped>\n",
       "    .dataframe tbody tr th:only-of-type {\n",
       "        vertical-align: middle;\n",
       "    }\n",
       "\n",
       "    .dataframe tbody tr th {\n",
       "        vertical-align: top;\n",
       "    }\n",
       "\n",
       "    .dataframe thead th {\n",
       "        text-align: right;\n",
       "    }\n",
       "</style>\n",
       "<table border=\"1\" class=\"dataframe\">\n",
       "  <thead>\n",
       "    <tr style=\"text-align: right;\">\n",
       "      <th></th>\n",
       "      <th>company</th>\n",
       "      <th>level</th>\n",
       "      <th>title</th>\n",
       "      <th>annualcomp</th>\n",
       "      <th>location</th>\n",
       "      <th>yearsofexperience</th>\n",
       "      <th>yearsatcompany</th>\n",
       "      <th>dmaid</th>\n",
       "      <th>education</th>\n",
       "    </tr>\n",
       "  </thead>\n",
       "  <tbody>\n",
       "    <tr>\n",
       "      <th>0</th>\n",
       "      <td>Facebook</td>\n",
       "      <td>E9</td>\n",
       "      <td>Product Manager</td>\n",
       "      <td>4980000</td>\n",
       "      <td>Menlo Park, CA</td>\n",
       "      <td>17.0</td>\n",
       "      <td>0.0</td>\n",
       "      <td>807.0</td>\n",
       "      <td>Master's Degree</td>\n",
       "    </tr>\n",
       "    <tr>\n",
       "      <th>1</th>\n",
       "      <td>Microsoft</td>\n",
       "      <td>80</td>\n",
       "      <td>Software Engineering Manager</td>\n",
       "      <td>4950000</td>\n",
       "      <td>Redmond, WA</td>\n",
       "      <td>24.0</td>\n",
       "      <td>8.0</td>\n",
       "      <td>819.0</td>\n",
       "      <td>NaN</td>\n",
       "    </tr>\n",
       "    <tr>\n",
       "      <th>2</th>\n",
       "      <td>Google</td>\n",
       "      <td>L10</td>\n",
       "      <td>Product Manager</td>\n",
       "      <td>4500000</td>\n",
       "      <td>San Francisco, CA</td>\n",
       "      <td>20.0</td>\n",
       "      <td>14.0</td>\n",
       "      <td>807.0</td>\n",
       "      <td>Master's Degree</td>\n",
       "    </tr>\n",
       "    <tr>\n",
       "      <th>3</th>\n",
       "      <td>Facebook</td>\n",
       "      <td>E9</td>\n",
       "      <td>Software Engineer</td>\n",
       "      <td>4490000</td>\n",
       "      <td>Menlo Park, CA</td>\n",
       "      <td>13.0</td>\n",
       "      <td>9.0</td>\n",
       "      <td>807.0</td>\n",
       "      <td>NaN</td>\n",
       "    </tr>\n",
       "    <tr>\n",
       "      <th>4</th>\n",
       "      <td>Snap</td>\n",
       "      <td>L8</td>\n",
       "      <td>Software Engineering Manager</td>\n",
       "      <td>2500000</td>\n",
       "      <td>Los Angeles, CA</td>\n",
       "      <td>20.0</td>\n",
       "      <td>4.0</td>\n",
       "      <td>803.0</td>\n",
       "      <td>NaN</td>\n",
       "    </tr>\n",
       "  </tbody>\n",
       "</table>\n",
       "</div>"
      ],
      "text/plain": [
       "     company level                         title  annualcomp  \\\n",
       "0   Facebook    E9               Product Manager     4980000   \n",
       "1  Microsoft    80  Software Engineering Manager     4950000   \n",
       "2     Google   L10               Product Manager     4500000   \n",
       "3   Facebook    E9             Software Engineer     4490000   \n",
       "4       Snap    L8  Software Engineering Manager     2500000   \n",
       "\n",
       "            location  yearsofexperience  yearsatcompany  dmaid  \\\n",
       "0     Menlo Park, CA               17.0             0.0  807.0   \n",
       "1        Redmond, WA               24.0             8.0  819.0   \n",
       "2  San Francisco, CA               20.0            14.0  807.0   \n",
       "3     Menlo Park, CA               13.0             9.0  807.0   \n",
       "4    Los Angeles, CA               20.0             4.0  803.0   \n",
       "\n",
       "         education  \n",
       "0  Master's Degree  \n",
       "1              NaN  \n",
       "2  Master's Degree  \n",
       "3              NaN  \n",
       "4              NaN  "
      ]
     },
     "execution_count": 3,
     "metadata": {},
     "output_type": "execute_result"
    }
   ],
   "source": [
    "# City ID is redundant with \"Location\" column, so drop the column\n",
    "df = df.drop(\"cityid\", axis=1)\n",
    "df.head()"
   ]
  },
  {
   "cell_type": "markdown",
   "id": "bc605f39",
   "metadata": {},
   "source": [
    "### Categorical feature distribution: How well-distributed are our categorical features?\n",
    "\n",
    "Total rows: 62,642\n"
   ]
  },
  {
   "cell_type": "code",
   "execution_count": 4,
   "id": "c2855efa",
   "metadata": {},
   "outputs": [
    {
     "name": "stdout",
     "output_type": "stream",
     "text": [
      "Education Value Counts\n",
      "\n",
      "NaN                  32263\n",
      "Master's Degree      15395\n",
      "Bachelor's Degree    12606\n",
      "PhD                   1704\n",
      "Some College           355\n",
      "Highschool             319\n",
      "Name: education, dtype: int64\n"
     ]
    },
    {
     "data": {
      "image/png": "[encoded data removed]",
      "text/plain": [
       "<Figure size 640x480 with 1 Axes>"
      ]
     },
     "metadata": {},
     "output_type": "display_data"
    }
   ],
   "source": [
    "# Education table\n",
    "print(\"Education Value Counts\\n\")\n",
    "\n",
    "print(df['education'].value_counts(dropna=False))\n",
    "plt.pie(x=df.education.value_counts(dropna=False),labels=['N/A', 'Master\\'s Degree', 'Bachelor\\'s Degree', 'PhD', 'Some College', 'High School']);"
   ]
  },
  {
   "cell_type": "markdown",
   "id": "3cece59b",
   "metadata": {},
   "source": [
    "Unfortunately, over half of the education fields are blank. This could affect our model's accuracy negatively. Bachelor's and Master's degree counts appear evenly split, but there are far fewer High School, Some College, and PhD counts than either. \n",
    "\n",
    "A more even distribution would better favor our data. Deleting all of the N/A values would chop our dataset in half though, so we won't do that."
   ]
  },
  {
   "cell_type": "code",
   "execution_count": 5,
   "id": "4ad08dee",
   "metadata": {},
   "outputs": [
    {
     "name": "stdout",
     "output_type": "stream",
     "text": [
      "Job Title Value Counts\n",
      "\n",
      "Software Engineer               41231\n",
      "Product Manager                  4673\n",
      "Software Engineering Manager     3569\n",
      "Data Scientist                   2578\n",
      "Hardware Engineer                2200\n",
      "Product Designer                 1516\n",
      "Technical Program Manager        1381\n",
      "Solution Architect               1157\n",
      "Management Consultant             976\n",
      "Business Analyst                  885\n",
      "Marketing                         710\n",
      "Mechanical Engineer               490\n",
      "Sales                             461\n",
      "Recruiter                         451\n",
      "Human Resources                   364\n",
      "Name: title, dtype: int64\n"
     ]
    },
    {
     "data": {
      "image/png": "[encoded data removed]",
      "text/plain": [
       "<Figure size 640x480 with 1 Axes>"
      ]
     },
     "metadata": {},
     "output_type": "display_data"
    }
   ],
   "source": [
    "# Job Title table\n",
    "print(\"Job Title Value Counts\\n\")\n",
    "\n",
    "print(df['title'].value_counts(dropna=False))\n",
    "plt.pie(x=df.title.value_counts(dropna=False));"
   ]
  },
  {
   "cell_type": "markdown",
   "id": "7a13a79e",
   "metadata": {},
   "source": [
    "Our job titles aren't evenly distributed either, with Software Engineers making a large majority. A way to better evenly distribute the data may be to purchase more survey data. Currently, we will work with the data we have."
   ]
  },
  {
   "cell_type": "code",
   "execution_count": 6,
   "id": "ce5fe46b",
   "metadata": {},
   "outputs": [
    {
     "name": "stdout",
     "output_type": "stream",
     "text": [
      "Mean annual compensation for each job title\n"
     ]
    },
    {
     "data": {
      "image/png": "[encoded data removed]",
      "text/plain": [
       "<Figure size 640x480 with 1 Axes>"
      ]
     },
     "metadata": {},
     "output_type": "display_data"
    }
   ],
   "source": [
    "# Mean pay for each title\n",
    "\n",
    "df_means_by_title = df.groupby('title')['annualcomp'].mean()\n",
    "\n",
    "print(\"Mean annual compensation for each job title\")\n",
    "df_means_by_title.plot(kind=\"bar\");"
   ]
  },
  {
   "cell_type": "markdown",
   "id": "8d06a3f0",
   "metadata": {},
   "source": [
    "It appears those with \"Manager\" in the job title have the highest mean pay. Our model may consider this."
   ]
  },
  {
   "cell_type": "code",
   "execution_count": 7,
   "id": "d89bd18a",
   "metadata": {},
   "outputs": [
    {
     "name": "stdout",
     "output_type": "stream",
     "text": [
      "Mean annual compensation for each education level\n"
     ]
    },
    {
     "data": {
      "image/png": "[encoded data removed]",
      "text/plain": [
       "<Figure size 640x480 with 1 Axes>"
      ]
     },
     "metadata": {},
     "output_type": "display_data"
    }
   ],
   "source": [
    "# Mean pay by education\n",
    "df_means_by_edu = df.groupby('education')['annualcomp'].mean()\n",
    "\n",
    "print(\"Mean annual compensation for each education level\")\n",
    "df_means_by_edu.plot(kind=\"bar\");"
   ]
  },
  {
   "cell_type": "markdown",
   "id": "95bbbe6a",
   "metadata": {},
   "source": [
    "Most of the data follows the trend of \"More years in school = More pay\", except Bachelor's Degrees, which are slightly lower than \"Some College\" and \"High School\". "
   ]
  },
  {
   "cell_type": "code",
   "execution_count": 8,
   "id": "aad6a538",
   "metadata": {},
   "outputs": [
    {
     "data": {
      "image/png": "[encoded data removed]",
      "text/plain": [
       "<Figure size 1000x700 with 1 Axes>"
      ]
     },
     "metadata": {},
     "output_type": "display_data"
    }
   ],
   "source": [
    "# Scatter plot: years of experience vs annual compensation\n",
    "fig, ax = plt.subplots(figsize=(10, 7))\n",
    "\n",
    "scatter = ax.scatter(df[\"yearsofexperience\"], \n",
    "                     df[\"annualcomp\"])\n",
    "\n",
    "ax.set(title=\"Years of experience vs Annual compensation\",\n",
    "       xlabel=\"Years of Experience\",\n",
    "       ylabel=\"Annual Compensation (Millions)\",\n",
    "       ylim=(0, 5000000),\n",
    "       xlim=(0, 50));"
   ]
  },
  {
   "cell_type": "markdown",
   "id": "c9c7885b",
   "metadata": {},
   "source": [
    "Years of experience doesn't have a strong linear relationship with annual compensation, it seems. It appears to have a normal distribution with a few outliers, those who get paid the most having around the median years of experience."
   ]
  },
  {
   "cell_type": "markdown",
   "id": "32be9e7e",
   "metadata": {},
   "source": [
    "## Convert and split the data\n",
    "\n",
    "First, we turn the string data into numeric data by saving them as category types, then changing the categories to nums\n",
    "\n",
    "Then, we split the data into X (features) and y(target, a.k.a: Annual Compensation).\n",
    "\n",
    "Then, we split those into three different sets:\n",
    "The training set is used to train/fit the model\n",
    "The validation set is used to tune hyperparameters\n",
    "The test set is used to evaluate our tuned, \"final\" model"
   ]
  },
  {
   "cell_type": "code",
   "execution_count": 9,
   "id": "925e604d",
   "metadata": {},
   "outputs": [],
   "source": [
    "df['company'] = df['company'].astype(\"category\").cat.as_ordered()\n",
    "df['title'] = df['title'].astype(\"category\").cat.as_ordered()\n",
    "df['location'] = df['location'].astype(\"category\").cat.as_ordered()\n",
    "df['education'] = df['education'].astype(\"category\").cat.as_ordered()\n",
    "df['level'] = df['level'].astype(\"category\").cat.as_ordered()\n",
    "df['dmaid'] = df['dmaid'].astype(\"category\").cat.as_ordered()"
   ]
  },
  {
   "cell_type": "code",
   "execution_count": 10,
   "id": "fc962fba",
   "metadata": {},
   "outputs": [],
   "source": [
    "# Turn categorical variables into numbers\n",
    "for label, content in df.items():\n",
    "    # Check columns which *aren't* numeric\n",
    "    if not pd.api.types.is_numeric_dtype(content):\n",
    "        # Indicate if cell had missing val\n",
    "        df[label+\"_is_missing\"] = pd.isnull(content)\n",
    "        # Ensure missing cat is encoded as 0\n",
    "        df[label] = pd.Categorical(content).codes+1 "
   ]
  },
  {
   "cell_type": "code",
   "execution_count": 11,
   "id": "daee477b",
   "metadata": {},
   "outputs": [],
   "source": [
    "# split data into X (features) and y (target)\n",
    "\n",
    "# shuffle\n",
    "np.random.seed(11)\n",
    "df = df.sample(frac=1)\n",
    "\n",
    "# Split into X and y\n",
    "X = df.drop(\"annualcomp\", axis=1)\n",
    "y = df[\"annualcomp\"]"
   ]
  },
  {
   "cell_type": "markdown",
   "id": "2f9c662d",
   "metadata": {},
   "source": [
    "# Model\n",
    "In this section, we split the data into modeling sets, run the model, and track the baseline metrics"
   ]
  },
  {
   "cell_type": "code",
   "execution_count": 12,
   "id": "bf062d54",
   "metadata": {},
   "outputs": [
    {
     "name": "stderr",
     "output_type": "stream",
     "text": [
      "/var/folders/f0/7k49bmzd7613jyjd90k3fkzm0000gn/T/ipykernel_17460/2182931083.py:8: FutureWarning: The behavior of `series[i:j]` with an integer-dtype index is deprecated. In a future version, this will be treated as *label-based* indexing, consistent with e.g. `series[i]` lookups. To retain the old behavior, use `series.iloc[i:j]`. To get the future behavior, use `series.loc[i:j]`.\n",
      "  X_train, y_train = X[:train_split_point], y[:train_split_point]\n",
      "/var/folders/f0/7k49bmzd7613jyjd90k3fkzm0000gn/T/ipykernel_17460/2182931083.py:9: FutureWarning: The behavior of `series[i:j]` with an integer-dtype index is deprecated. In a future version, this will be treated as *label-based* indexing, consistent with e.g. `series[i]` lookups. To retain the old behavior, use `series.iloc[i:j]`. To get the future behavior, use `series.loc[i:j]`.\n",
      "  X_valid, y_valid = X[train_split_point:valid_split_point], y[train_split_point:valid_split_point]\n",
      "/var/folders/f0/7k49bmzd7613jyjd90k3fkzm0000gn/T/ipykernel_17460/2182931083.py:10: FutureWarning: The behavior of `series[i:j]` with an integer-dtype index is deprecated. In a future version, this will be treated as *label-based* indexing, consistent with e.g. `series[i]` lookups. To retain the old behavior, use `series.iloc[i:j]`. To get the future behavior, use `series.loc[i:j]`.\n",
      "  X_test, y_test = X[valid_split_point:], y[valid_split_point:]\n"
     ]
    }
   ],
   "source": [
    "# Split into training, validation, and test\n",
    "\n",
    "# Create split points in the data\n",
    "train_split_point = round(0.7*len(df))\n",
    "valid_split_point = round(train_split_point + (0.15*len(df)))\n",
    "\n",
    "# Training = 70% of data, Validation = 15% of data, Test = 15% of data\n",
    "X_train, y_train = X[:train_split_point], y[:train_split_point]\n",
    "X_valid, y_valid = X[train_split_point:valid_split_point], y[train_split_point:valid_split_point]\n",
    "X_test, y_test = X[valid_split_point:], y[valid_split_point:]"
   ]
  },
  {
   "cell_type": "code",
   "execution_count": 13,
   "id": "364a36c9",
   "metadata": {},
   "outputs": [
    {
     "data": {
      "text/html": [
       "<style>#sk-container-id-1 {color: black;background-color: white;}#sk-container-id-1 pre{padding: 0;}#sk-container-id-1 div.sk-toggleable {background-color: white;}#sk-container-id-1 label.sk-toggleable__label {cursor: pointer;display: block;width: 100%;margin-bottom: 0;padding: 0.3em;box-sizing: border-box;text-align: center;}#sk-container-id-1 label.sk-toggleable__label-arrow:before {content: \"▸\";float: left;margin-right: 0.25em;color: #696969;}#sk-container-id-1 label.sk-toggleable__label-arrow:hover:before {color: black;}#sk-container-id-1 div.sk-estimator:hover label.sk-toggleable__label-arrow:before {color: black;}#sk-container-id-1 div.sk-toggleable__content {max-height: 0;max-width: 0;overflow: hidden;text-align: left;background-color: #f0f8ff;}#sk-container-id-1 div.sk-toggleable__content pre {margin: 0.2em;color: black;border-radius: 0.25em;background-color: #f0f8ff;}#sk-container-id-1 input.sk-toggleable__control:checked~div.sk-toggleable__content {max-height: 200px;max-width: 100%;overflow: auto;}#sk-container-id-1 input.sk-toggleable__control:checked~label.sk-toggleable__label-arrow:before {content: \"▾\";}#sk-container-id-1 div.sk-estimator input.sk-toggleable__control:checked~label.sk-toggleable__label {background-color: #d4ebff;}#sk-container-id-1 div.sk-label input.sk-toggleable__control:checked~label.sk-toggleable__label {background-color: #d4ebff;}#sk-container-id-1 input.sk-hidden--visually {border: 0;clip: rect(1px 1px 1px 1px);clip: rect(1px, 1px, 1px, 1px);height: 1px;margin: -1px;overflow: hidden;padding: 0;position: absolute;width: 1px;}#sk-container-id-1 div.sk-estimator {font-family: monospace;background-color: #f0f8ff;border: 1px dotted black;border-radius: 0.25em;box-sizing: border-box;margin-bottom: 0.5em;}#sk-container-id-1 div.sk-estimator:hover {background-color: #d4ebff;}#sk-container-id-1 div.sk-parallel-item::after {content: \"\";width: 100%;border-bottom: 1px solid gray;flex-grow: 1;}#sk-container-id-1 div.sk-label:hover label.sk-toggleable__label {background-color: #d4ebff;}#sk-container-id-1 div.sk-serial::before {content: \"\";position: absolute;border-left: 1px solid gray;box-sizing: border-box;top: 0;bottom: 0;left: 50%;z-index: 0;}#sk-container-id-1 div.sk-serial {display: flex;flex-direction: column;align-items: center;background-color: white;padding-right: 0.2em;padding-left: 0.2em;position: relative;}#sk-container-id-1 div.sk-item {position: relative;z-index: 1;}#sk-container-id-1 div.sk-parallel {display: flex;align-items: stretch;justify-content: center;background-color: white;position: relative;}#sk-container-id-1 div.sk-item::before, #sk-container-id-1 div.sk-parallel-item::before {content: \"\";position: absolute;border-left: 1px solid gray;box-sizing: border-box;top: 0;bottom: 0;left: 50%;z-index: -1;}#sk-container-id-1 div.sk-parallel-item {display: flex;flex-direction: column;z-index: 1;position: relative;background-color: white;}#sk-container-id-1 div.sk-parallel-item:first-child::after {align-self: flex-end;width: 50%;}#sk-container-id-1 div.sk-parallel-item:last-child::after {align-self: flex-start;width: 50%;}#sk-container-id-1 div.sk-parallel-item:only-child::after {width: 0;}#sk-container-id-1 div.sk-dashed-wrapped {border: 1px dashed gray;margin: 0 0.4em 0.5em 0.4em;box-sizing: border-box;padding-bottom: 0.4em;background-color: white;}#sk-container-id-1 div.sk-label label {font-family: monospace;font-weight: bold;display: inline-block;line-height: 1.2em;}#sk-container-id-1 div.sk-label-container {text-align: center;}#sk-container-id-1 div.sk-container {/* jupyter's `normalize.less` sets `[hidden] { display: none; }` but bootstrap.min.css set `[hidden] { display: none !important; }` so we also need the `!important` here to be able to override the default hidden behavior on the sphinx rendered scikit-learn.org. See: https://github.com/scikit-learn/scikit-learn/issues/21755 */display: inline-block !important;position: relative;}#sk-container-id-1 div.sk-text-repr-fallback {display: none;}</style><div id=\"sk-container-id-1\" class=\"sk-top-container\"><div class=\"sk-text-repr-fallback\"><pre>RandomForestRegressor(n_jobs=-1, random_state=11)</pre><b>In a Jupyter environment, please rerun this cell to show the HTML representation or trust the notebook. <br />On GitHub, the HTML representation is unable to render, please try loading this page with nbviewer.org.</b></div><div class=\"sk-container\" hidden><div class=\"sk-item\"><div class=\"sk-estimator sk-toggleable\"><input class=\"sk-toggleable__control sk-hidden--visually\" id=\"sk-estimator-id-1\" type=\"checkbox\" checked><label for=\"sk-estimator-id-1\" class=\"sk-toggleable__label sk-toggleable__label-arrow\">RandomForestRegressor</label><div class=\"sk-toggleable__content\"><pre>RandomForestRegressor(n_jobs=-1, random_state=11)</pre></div></div></div></div></div>"
      ],
      "text/plain": [
       "RandomForestRegressor(n_jobs=-1, random_state=11)"
      ]
     },
     "execution_count": 13,
     "metadata": {},
     "output_type": "execute_result"
    }
   ],
   "source": [
    "# Train the Random Forest Regressor model on the training data\n",
    "# Implement using a random state of 11 so you can replicate results\n",
    "model = RandomForestRegressor(n_jobs=-1, random_state=11)\n",
    "model.fit(X_train, y_train)"
   ]
  },
  {
   "cell_type": "code",
   "execution_count": 14,
   "id": "1c6b64be",
   "metadata": {},
   "outputs": [],
   "source": [
    "# Define metrics for each set\n",
    "\n",
    "# Training set for training model and model fitting\n",
    "def evaluate_training_metrics(model):\n",
    "    training_predictions = model.predict(X_train)\n",
    "    scores = {\"Training Mean Absolute Error\": mean_absolute_error(y_train, training_predictions),\n",
    "              \"Training Root Mean Squared Log Error\": np.sqrt(mean_squared_log_error(y_train, training_predictions)),\n",
    "              \"Training Coefficient of Determination (R^2)\": r2_score(y_train, training_predictions)}\n",
    "    return scores\n",
    "\n",
    "# Validation set metrics for hyperparameter tuning \n",
    "def evaluate_validation_metrics(model):\n",
    "    validation_predictions = model.predict(X_valid)\n",
    "    scores = {\"Validation Mean Absolute Error\": mean_absolute_error(y_valid, validation_predictions),\n",
    "              \"Validation Root Mean Squared Log Error\": np.sqrt(mean_squared_log_error(y_valid, validation_predictions)),\n",
    "              \"Validation Coefficient of Determination (R^2)\": r2_score(y_valid, validation_predictions)}\n",
    "    return scores\n",
    "\n",
    "# Test set metrics for final evaluation of model\n",
    "def evaluate_test_metrics(model):\n",
    "    test_predictions = model.predict(X_test)\n",
    "    scores = {\"Test Mean Absolute Error\": mean_absolute_error(y_test, test_predictions),\n",
    "              \"Test Root Mean Squared Log Error\": np.sqrt(mean_squared_log_error(y_test, test_predictions)),\n",
    "              \"Test Coefficient of Determination (R^2)\": r2_score(y_test, test_predictions)}\n",
    "    return scores\n"
   ]
  },
  {
   "cell_type": "code",
   "execution_count": 15,
   "id": "0ab0606b",
   "metadata": {},
   "outputs": [
    {
     "data": {
      "text/plain": [
       "{'Training Mean Absolute Error': 18968.668721913964,\n",
       " 'Training Root Mean Squared Log Error': 0.14002302430902064,\n",
       " 'Training Coefficient of Determination (R^2)': 0.9408496574978172}"
      ]
     },
     "execution_count": 15,
     "metadata": {},
     "output_type": "execute_result"
    }
   ],
   "source": [
    "# Metrics for training data (model has already been fit to training data, so these should be good metrics)\n",
    "evaluate_training_metrics(model)"
   ]
  },
  {
   "cell_type": "markdown",
   "id": "0a695ce5",
   "metadata": {},
   "source": [
    "### Baseline metrics using validation set\n",
    "Baseline metrics using data model has not seen before"
   ]
  },
  {
   "cell_type": "code",
   "execution_count": 16,
   "id": "04bdaba5",
   "metadata": {},
   "outputs": [
    {
     "data": {
      "text/plain": [
       "{'Validation Mean Absolute Error': 47411.08191646569,\n",
       " 'Validation Root Mean Squared Log Error': 0.31914398881123685,\n",
       " 'Validation Coefficient of Determination (R^2)': 0.5862516785603646}"
      ]
     },
     "execution_count": 16,
     "metadata": {},
     "output_type": "execute_result"
    }
   ],
   "source": [
    "evaluate_validation_metrics(model)"
   ]
  },
  {
   "cell_type": "markdown",
   "id": "fc205d41",
   "metadata": {},
   "source": [
    "Our baseline metrics (prior to model tuning) are:\n",
    "* Mean Absolute Error (in USD): 47,411.09\n",
    "* Root Mean Squared Log Error: 0.319\n",
    "* Coefficient of Determination: 0.586\n",
    "\n",
    "We can try to improve these metrics with hyperparameter tuning."
   ]
  },
  {
   "cell_type": "markdown",
   "id": "cb101916",
   "metadata": {},
   "source": [
    "# Model Tuning\n",
    "In this section, we tune the hyperparameters first using RandomizedSearchCV.\n",
    "Then, we use some of the data from RandomizedSearchCV() to create a more refined grid for an exhaustive grid search using GridSearchCV().\n",
    "\n",
    "Please note: the hyperparameter searches take some time. You do not need to run those cells if not necessary."
   ]
  },
  {
   "cell_type": "code",
   "execution_count": 17,
   "id": "e6da00a0",
   "metadata": {},
   "outputs": [
    {
     "name": "stdout",
     "output_type": "stream",
     "text": [
      "Fitting 2 folds for each of 10 candidates, totalling 20 fits\n"
     ]
    },
    {
     "data": {
      "text/html": [
       "<style>#sk-container-id-2 {color: black;background-color: white;}#sk-container-id-2 pre{padding: 0;}#sk-container-id-2 div.sk-toggleable {background-color: white;}#sk-container-id-2 label.sk-toggleable__label {cursor: pointer;display: block;width: 100%;margin-bottom: 0;padding: 0.3em;box-sizing: border-box;text-align: center;}#sk-container-id-2 label.sk-toggleable__label-arrow:before {content: \"▸\";float: left;margin-right: 0.25em;color: #696969;}#sk-container-id-2 label.sk-toggleable__label-arrow:hover:before {color: black;}#sk-container-id-2 div.sk-estimator:hover label.sk-toggleable__label-arrow:before {color: black;}#sk-container-id-2 div.sk-toggleable__content {max-height: 0;max-width: 0;overflow: hidden;text-align: left;background-color: #f0f8ff;}#sk-container-id-2 div.sk-toggleable__content pre {margin: 0.2em;color: black;border-radius: 0.25em;background-color: #f0f8ff;}#sk-container-id-2 input.sk-toggleable__control:checked~div.sk-toggleable__content {max-height: 200px;max-width: 100%;overflow: auto;}#sk-container-id-2 input.sk-toggleable__control:checked~label.sk-toggleable__label-arrow:before {content: \"▾\";}#sk-container-id-2 div.sk-estimator input.sk-toggleable__control:checked~label.sk-toggleable__label {background-color: #d4ebff;}#sk-container-id-2 div.sk-label input.sk-toggleable__control:checked~label.sk-toggleable__label {background-color: #d4ebff;}#sk-container-id-2 input.sk-hidden--visually {border: 0;clip: rect(1px 1px 1px 1px);clip: rect(1px, 1px, 1px, 1px);height: 1px;margin: -1px;overflow: hidden;padding: 0;position: absolute;width: 1px;}#sk-container-id-2 div.sk-estimator {font-family: monospace;background-color: #f0f8ff;border: 1px dotted black;border-radius: 0.25em;box-sizing: border-box;margin-bottom: 0.5em;}#sk-container-id-2 div.sk-estimator:hover {background-color: #d4ebff;}#sk-container-id-2 div.sk-parallel-item::after {content: \"\";width: 100%;border-bottom: 1px solid gray;flex-grow: 1;}#sk-container-id-2 div.sk-label:hover label.sk-toggleable__label {background-color: #d4ebff;}#sk-container-id-2 div.sk-serial::before {content: \"\";position: absolute;border-left: 1px solid gray;box-sizing: border-box;top: 0;bottom: 0;left: 50%;z-index: 0;}#sk-container-id-2 div.sk-serial {display: flex;flex-direction: column;align-items: center;background-color: white;padding-right: 0.2em;padding-left: 0.2em;position: relative;}#sk-container-id-2 div.sk-item {position: relative;z-index: 1;}#sk-container-id-2 div.sk-parallel {display: flex;align-items: stretch;justify-content: center;background-color: white;position: relative;}#sk-container-id-2 div.sk-item::before, #sk-container-id-2 div.sk-parallel-item::before {content: \"\";position: absolute;border-left: 1px solid gray;box-sizing: border-box;top: 0;bottom: 0;left: 50%;z-index: -1;}#sk-container-id-2 div.sk-parallel-item {display: flex;flex-direction: column;z-index: 1;position: relative;background-color: white;}#sk-container-id-2 div.sk-parallel-item:first-child::after {align-self: flex-end;width: 50%;}#sk-container-id-2 div.sk-parallel-item:last-child::after {align-self: flex-start;width: 50%;}#sk-container-id-2 div.sk-parallel-item:only-child::after {width: 0;}#sk-container-id-2 div.sk-dashed-wrapped {border: 1px dashed gray;margin: 0 0.4em 0.5em 0.4em;box-sizing: border-box;padding-bottom: 0.4em;background-color: white;}#sk-container-id-2 div.sk-label label {font-family: monospace;font-weight: bold;display: inline-block;line-height: 1.2em;}#sk-container-id-2 div.sk-label-container {text-align: center;}#sk-container-id-2 div.sk-container {/* jupyter's `normalize.less` sets `[hidden] { display: none; }` but bootstrap.min.css set `[hidden] { display: none !important; }` so we also need the `!important` here to be able to override the default hidden behavior on the sphinx rendered scikit-learn.org. See: https://github.com/scikit-learn/scikit-learn/issues/21755 */display: inline-block !important;position: relative;}#sk-container-id-2 div.sk-text-repr-fallback {display: none;}</style><div id=\"sk-container-id-2\" class=\"sk-top-container\"><div class=\"sk-text-repr-fallback\"><pre>RandomizedSearchCV(cv=2, error_score=&#x27;raise&#x27;,\n",
       "                   estimator=RandomForestRegressor(n_jobs=-1, random_state=11),\n",
       "                   param_distributions={&#x27;max_depth&#x27;: [None, 10, 30, 40, 50, 60],\n",
       "                                        &#x27;max_features&#x27;: [&#x27;sqrt&#x27;, 1, None],\n",
       "                                        &#x27;min_samples_leaf&#x27;: [1, 2],\n",
       "                                        &#x27;min_samples_split&#x27;: [2, 4, 6, 8, 12],\n",
       "                                        &#x27;n_estimators&#x27;: [50, 100, 150, 200]},\n",
       "                   verbose=True)</pre><b>In a Jupyter environment, please rerun this cell to show the HTML representation or trust the notebook. <br />On GitHub, the HTML representation is unable to render, please try loading this page with nbviewer.org.</b></div><div class=\"sk-container\" hidden><div class=\"sk-item sk-dashed-wrapped\"><div class=\"sk-label-container\"><div class=\"sk-label sk-toggleable\"><input class=\"sk-toggleable__control sk-hidden--visually\" id=\"sk-estimator-id-2\" type=\"checkbox\" ><label for=\"sk-estimator-id-2\" class=\"sk-toggleable__label sk-toggleable__label-arrow\">RandomizedSearchCV</label><div class=\"sk-toggleable__content\"><pre>RandomizedSearchCV(cv=2, error_score=&#x27;raise&#x27;,\n",
       "                   estimator=RandomForestRegressor(n_jobs=-1, random_state=11),\n",
       "                   param_distributions={&#x27;max_depth&#x27;: [None, 10, 30, 40, 50, 60],\n",
       "                                        &#x27;max_features&#x27;: [&#x27;sqrt&#x27;, 1, None],\n",
       "                                        &#x27;min_samples_leaf&#x27;: [1, 2],\n",
       "                                        &#x27;min_samples_split&#x27;: [2, 4, 6, 8, 12],\n",
       "                                        &#x27;n_estimators&#x27;: [50, 100, 150, 200]},\n",
       "                   verbose=True)</pre></div></div></div><div class=\"sk-parallel\"><div class=\"sk-parallel-item\"><div class=\"sk-item\"><div class=\"sk-label-container\"><div class=\"sk-label sk-toggleable\"><input class=\"sk-toggleable__control sk-hidden--visually\" id=\"sk-estimator-id-3\" type=\"checkbox\" ><label for=\"sk-estimator-id-3\" class=\"sk-toggleable__label sk-toggleable__label-arrow\">estimator: RandomForestRegressor</label><div class=\"sk-toggleable__content\"><pre>RandomForestRegressor(n_jobs=-1, random_state=11)</pre></div></div></div><div class=\"sk-serial\"><div class=\"sk-item\"><div class=\"sk-estimator sk-toggleable\"><input class=\"sk-toggleable__control sk-hidden--visually\" id=\"sk-estimator-id-4\" type=\"checkbox\" ><label for=\"sk-estimator-id-4\" class=\"sk-toggleable__label sk-toggleable__label-arrow\">RandomForestRegressor</label><div class=\"sk-toggleable__content\"><pre>RandomForestRegressor(n_jobs=-1, random_state=11)</pre></div></div></div></div></div></div></div></div></div></div>"
      ],
      "text/plain": [
       "RandomizedSearchCV(cv=2, error_score='raise',\n",
       "                   estimator=RandomForestRegressor(n_jobs=-1, random_state=11),\n",
       "                   param_distributions={'max_depth': [None, 10, 30, 40, 50, 60],\n",
       "                                        'max_features': ['sqrt', 1, None],\n",
       "                                        'min_samples_leaf': [1, 2],\n",
       "                                        'min_samples_split': [2, 4, 6, 8, 12],\n",
       "                                        'n_estimators': [50, 100, 150, 200]},\n",
       "                   verbose=True)"
      ]
     },
     "execution_count": 17,
     "metadata": {},
     "output_type": "execute_result"
    }
   ],
   "source": [
    "# tune hyperparameters with RandomizedSearchCV\n",
    "# add commonly used hyperparameters on which model will test\n",
    "rs_grid = {'n_estimators': [50, 100, 150, 200],\n",
    "           'max_depth': [None, 10, 30, 40, 50, 60],\n",
    "           'max_features': [\"sqrt\", 1, None],\n",
    "           'min_samples_split': [2,4,6,8,12],\n",
    "           'min_samples_leaf': [1,2]}\n",
    "\n",
    "# n_iter=10 to keep time low\n",
    "rs_model = RandomizedSearchCV(RandomForestRegressor(random_state=11, n_jobs=-1), param_distributions=rs_grid, n_iter=10, cv=2, verbose=True, error_score='raise')\n",
    "\n",
    "rs_model.fit(X_train, y_train)"
   ]
  },
  {
   "cell_type": "code",
   "execution_count": 18,
   "id": "4e9b4e95",
   "metadata": {},
   "outputs": [
    {
     "data": {
      "text/plain": [
       "{'n_estimators': 100,\n",
       " 'min_samples_split': 8,\n",
       " 'min_samples_leaf': 2,\n",
       " 'max_features': None,\n",
       " 'max_depth': None}"
      ]
     },
     "execution_count": 18,
     "metadata": {},
     "output_type": "execute_result"
    }
   ],
   "source": [
    "# Get best parameters found\n",
    "rs_model.best_params_"
   ]
  },
  {
   "cell_type": "markdown",
   "id": "8908e076",
   "metadata": {},
   "source": [
    "### Metrics using best fit parameters after random search CV"
   ]
  },
  {
   "cell_type": "code",
   "execution_count": 19,
   "id": "9b686458",
   "metadata": {},
   "outputs": [
    {
     "data": {
      "text/plain": [
       "{'Validation Mean Absolute Error': 47065.41225620017,\n",
       " 'Validation Root Mean Squared Log Error': 0.31713989199503284,\n",
       " 'Validation Coefficient of Determination (R^2)': 0.5944153610450844}"
      ]
     },
     "execution_count": 19,
     "metadata": {},
     "output_type": "execute_result"
    }
   ],
   "source": [
    "evaluate_validation_metrics(rs_model)"
   ]
  },
  {
   "cell_type": "markdown",
   "id": "5b174da2",
   "metadata": {},
   "source": [
    "### Use best parameter data from previous search to perform exhaustive grid search"
   ]
  },
  {
   "cell_type": "code",
   "execution_count": 20,
   "id": "2db8868f",
   "metadata": {},
   "outputs": [
    {
     "name": "stdout",
     "output_type": "stream",
     "text": [
      "Fitting 2 folds for each of 16 candidates, totalling 32 fits\n"
     ]
    },
    {
     "data": {
      "text/html": [
       "<style>#sk-container-id-3 {color: black;background-color: white;}#sk-container-id-3 pre{padding: 0;}#sk-container-id-3 div.sk-toggleable {background-color: white;}#sk-container-id-3 label.sk-toggleable__label {cursor: pointer;display: block;width: 100%;margin-bottom: 0;padding: 0.3em;box-sizing: border-box;text-align: center;}#sk-container-id-3 label.sk-toggleable__label-arrow:before {content: \"▸\";float: left;margin-right: 0.25em;color: #696969;}#sk-container-id-3 label.sk-toggleable__label-arrow:hover:before {color: black;}#sk-container-id-3 div.sk-estimator:hover label.sk-toggleable__label-arrow:before {color: black;}#sk-container-id-3 div.sk-toggleable__content {max-height: 0;max-width: 0;overflow: hidden;text-align: left;background-color: #f0f8ff;}#sk-container-id-3 div.sk-toggleable__content pre {margin: 0.2em;color: black;border-radius: 0.25em;background-color: #f0f8ff;}#sk-container-id-3 input.sk-toggleable__control:checked~div.sk-toggleable__content {max-height: 200px;max-width: 100%;overflow: auto;}#sk-container-id-3 input.sk-toggleable__control:checked~label.sk-toggleable__label-arrow:before {content: \"▾\";}#sk-container-id-3 div.sk-estimator input.sk-toggleable__control:checked~label.sk-toggleable__label {background-color: #d4ebff;}#sk-container-id-3 div.sk-label input.sk-toggleable__control:checked~label.sk-toggleable__label {background-color: #d4ebff;}#sk-container-id-3 input.sk-hidden--visually {border: 0;clip: rect(1px 1px 1px 1px);clip: rect(1px, 1px, 1px, 1px);height: 1px;margin: -1px;overflow: hidden;padding: 0;position: absolute;width: 1px;}#sk-container-id-3 div.sk-estimator {font-family: monospace;background-color: #f0f8ff;border: 1px dotted black;border-radius: 0.25em;box-sizing: border-box;margin-bottom: 0.5em;}#sk-container-id-3 div.sk-estimator:hover {background-color: #d4ebff;}#sk-container-id-3 div.sk-parallel-item::after {content: \"\";width: 100%;border-bottom: 1px solid gray;flex-grow: 1;}#sk-container-id-3 div.sk-label:hover label.sk-toggleable__label {background-color: #d4ebff;}#sk-container-id-3 div.sk-serial::before {content: \"\";position: absolute;border-left: 1px solid gray;box-sizing: border-box;top: 0;bottom: 0;left: 50%;z-index: 0;}#sk-container-id-3 div.sk-serial {display: flex;flex-direction: column;align-items: center;background-color: white;padding-right: 0.2em;padding-left: 0.2em;position: relative;}#sk-container-id-3 div.sk-item {position: relative;z-index: 1;}#sk-container-id-3 div.sk-parallel {display: flex;align-items: stretch;justify-content: center;background-color: white;position: relative;}#sk-container-id-3 div.sk-item::before, #sk-container-id-3 div.sk-parallel-item::before {content: \"\";position: absolute;border-left: 1px solid gray;box-sizing: border-box;top: 0;bottom: 0;left: 50%;z-index: -1;}#sk-container-id-3 div.sk-parallel-item {display: flex;flex-direction: column;z-index: 1;position: relative;background-color: white;}#sk-container-id-3 div.sk-parallel-item:first-child::after {align-self: flex-end;width: 50%;}#sk-container-id-3 div.sk-parallel-item:last-child::after {align-self: flex-start;width: 50%;}#sk-container-id-3 div.sk-parallel-item:only-child::after {width: 0;}#sk-container-id-3 div.sk-dashed-wrapped {border: 1px dashed gray;margin: 0 0.4em 0.5em 0.4em;box-sizing: border-box;padding-bottom: 0.4em;background-color: white;}#sk-container-id-3 div.sk-label label {font-family: monospace;font-weight: bold;display: inline-block;line-height: 1.2em;}#sk-container-id-3 div.sk-label-container {text-align: center;}#sk-container-id-3 div.sk-container {/* jupyter's `normalize.less` sets `[hidden] { display: none; }` but bootstrap.min.css set `[hidden] { display: none !important; }` so we also need the `!important` here to be able to override the default hidden behavior on the sphinx rendered scikit-learn.org. See: https://github.com/scikit-learn/scikit-learn/issues/21755 */display: inline-block !important;position: relative;}#sk-container-id-3 div.sk-text-repr-fallback {display: none;}</style><div id=\"sk-container-id-3\" class=\"sk-top-container\"><div class=\"sk-text-repr-fallback\"><pre>GridSearchCV(cv=2, error_score=&#x27;raise&#x27;,\n",
       "             estimator=RandomForestRegressor(n_jobs=-1, random_state=11),\n",
       "             param_grid={&#x27;max_depth&#x27;: [None, 50], &#x27;max_features&#x27;: [None],\n",
       "                         &#x27;min_samples_leaf&#x27;: [1, 2],\n",
       "                         &#x27;min_samples_split&#x27;: [2, 4],\n",
       "                         &#x27;n_estimators&#x27;: [150, 200]},\n",
       "             verbose=True)</pre><b>In a Jupyter environment, please rerun this cell to show the HTML representation or trust the notebook. <br />On GitHub, the HTML representation is unable to render, please try loading this page with nbviewer.org.</b></div><div class=\"sk-container\" hidden><div class=\"sk-item sk-dashed-wrapped\"><div class=\"sk-label-container\"><div class=\"sk-label sk-toggleable\"><input class=\"sk-toggleable__control sk-hidden--visually\" id=\"sk-estimator-id-5\" type=\"checkbox\" ><label for=\"sk-estimator-id-5\" class=\"sk-toggleable__label sk-toggleable__label-arrow\">GridSearchCV</label><div class=\"sk-toggleable__content\"><pre>GridSearchCV(cv=2, error_score=&#x27;raise&#x27;,\n",
       "             estimator=RandomForestRegressor(n_jobs=-1, random_state=11),\n",
       "             param_grid={&#x27;max_depth&#x27;: [None, 50], &#x27;max_features&#x27;: [None],\n",
       "                         &#x27;min_samples_leaf&#x27;: [1, 2],\n",
       "                         &#x27;min_samples_split&#x27;: [2, 4],\n",
       "                         &#x27;n_estimators&#x27;: [150, 200]},\n",
       "             verbose=True)</pre></div></div></div><div class=\"sk-parallel\"><div class=\"sk-parallel-item\"><div class=\"sk-item\"><div class=\"sk-label-container\"><div class=\"sk-label sk-toggleable\"><input class=\"sk-toggleable__control sk-hidden--visually\" id=\"sk-estimator-id-6\" type=\"checkbox\" ><label for=\"sk-estimator-id-6\" class=\"sk-toggleable__label sk-toggleable__label-arrow\">estimator: RandomForestRegressor</label><div class=\"sk-toggleable__content\"><pre>RandomForestRegressor(n_jobs=-1, random_state=11)</pre></div></div></div><div class=\"sk-serial\"><div class=\"sk-item\"><div class=\"sk-estimator sk-toggleable\"><input class=\"sk-toggleable__control sk-hidden--visually\" id=\"sk-estimator-id-7\" type=\"checkbox\" ><label for=\"sk-estimator-id-7\" class=\"sk-toggleable__label sk-toggleable__label-arrow\">RandomForestRegressor</label><div class=\"sk-toggleable__content\"><pre>RandomForestRegressor(n_jobs=-1, random_state=11)</pre></div></div></div></div></div></div></div></div></div></div>"
      ],
      "text/plain": [
       "GridSearchCV(cv=2, error_score='raise',\n",
       "             estimator=RandomForestRegressor(n_jobs=-1, random_state=11),\n",
       "             param_grid={'max_depth': [None, 50], 'max_features': [None],\n",
       "                         'min_samples_leaf': [1, 2],\n",
       "                         'min_samples_split': [2, 4],\n",
       "                         'n_estimators': [150, 200]},\n",
       "             verbose=True)"
      ]
     },
     "execution_count": 20,
     "metadata": {},
     "output_type": "execute_result"
    }
   ],
   "source": [
    "# Grid Search takes some time. It is not necessary to run.\n",
    "# GridSearchCV for exhaustive searching\n",
    "gs_grid = {'n_estimators': [150, 200],\n",
    "           'min_samples_split': [2, 4],\n",
    "           'min_samples_leaf': [1,2],\n",
    "           'max_features': [None],\n",
    "           'max_depth': [None, 50]}\n",
    "\n",
    "gs_model = GridSearchCV(RandomForestRegressor(random_state=11, n_jobs=-1), param_grid=gs_grid, cv=2, verbose=True, error_score='raise')\n",
    "\n",
    "gs_model.fit(X_train, y_train)"
   ]
  },
  {
   "cell_type": "code",
   "execution_count": 21,
   "id": "47cde620",
   "metadata": {},
   "outputs": [
    {
     "data": {
      "text/plain": [
       "{'max_depth': None,\n",
       " 'max_features': None,\n",
       " 'min_samples_leaf': 2,\n",
       " 'min_samples_split': 2,\n",
       " 'n_estimators': 200}"
      ]
     },
     "execution_count": 21,
     "metadata": {},
     "output_type": "execute_result"
    }
   ],
   "source": [
    "# Get best parameters found\n",
    "gs_model.best_params_"
   ]
  },
  {
   "cell_type": "markdown",
   "id": "79e27ad6",
   "metadata": {},
   "source": [
    "### Metrics after grid search's best parameters are found"
   ]
  },
  {
   "cell_type": "code",
   "execution_count": 22,
   "id": "accdf46e",
   "metadata": {},
   "outputs": [
    {
     "data": {
      "text/plain": [
       "{'Validation Mean Absolute Error': 46766.51820133491,\n",
       " 'Validation Root Mean Squared Log Error': 0.3157154038152417,\n",
       " 'Validation Coefficient of Determination (R^2)': 0.5962544764194473}"
      ]
     },
     "execution_count": 22,
     "metadata": {},
     "output_type": "execute_result"
    }
   ],
   "source": [
    "evaluate_validation_metrics(gs_model)"
   ]
  },
  {
   "cell_type": "markdown",
   "id": "c9f56f8f",
   "metadata": {},
   "source": [
    "# Evaluation\n",
    "\n",
    "Now we can create the final model using what we know from the previous section, and then evaluate it on never-seen-before test data."
   ]
  },
  {
   "cell_type": "code",
   "execution_count": 23,
   "id": "d51ca38a",
   "metadata": {},
   "outputs": [
    {
     "data": {
      "text/html": [
       "<style>#sk-container-id-4 {color: black;background-color: white;}#sk-container-id-4 pre{padding: 0;}#sk-container-id-4 div.sk-toggleable {background-color: white;}#sk-container-id-4 label.sk-toggleable__label {cursor: pointer;display: block;width: 100%;margin-bottom: 0;padding: 0.3em;box-sizing: border-box;text-align: center;}#sk-container-id-4 label.sk-toggleable__label-arrow:before {content: \"▸\";float: left;margin-right: 0.25em;color: #696969;}#sk-container-id-4 label.sk-toggleable__label-arrow:hover:before {color: black;}#sk-container-id-4 div.sk-estimator:hover label.sk-toggleable__label-arrow:before {color: black;}#sk-container-id-4 div.sk-toggleable__content {max-height: 0;max-width: 0;overflow: hidden;text-align: left;background-color: #f0f8ff;}#sk-container-id-4 div.sk-toggleable__content pre {margin: 0.2em;color: black;border-radius: 0.25em;background-color: #f0f8ff;}#sk-container-id-4 input.sk-toggleable__control:checked~div.sk-toggleable__content {max-height: 200px;max-width: 100%;overflow: auto;}#sk-container-id-4 input.sk-toggleable__control:checked~label.sk-toggleable__label-arrow:before {content: \"▾\";}#sk-container-id-4 div.sk-estimator input.sk-toggleable__control:checked~label.sk-toggleable__label {background-color: #d4ebff;}#sk-container-id-4 div.sk-label input.sk-toggleable__control:checked~label.sk-toggleable__label {background-color: #d4ebff;}#sk-container-id-4 input.sk-hidden--visually {border: 0;clip: rect(1px 1px 1px 1px);clip: rect(1px, 1px, 1px, 1px);height: 1px;margin: -1px;overflow: hidden;padding: 0;position: absolute;width: 1px;}#sk-container-id-4 div.sk-estimator {font-family: monospace;background-color: #f0f8ff;border: 1px dotted black;border-radius: 0.25em;box-sizing: border-box;margin-bottom: 0.5em;}#sk-container-id-4 div.sk-estimator:hover {background-color: #d4ebff;}#sk-container-id-4 div.sk-parallel-item::after {content: \"\";width: 100%;border-bottom: 1px solid gray;flex-grow: 1;}#sk-container-id-4 div.sk-label:hover label.sk-toggleable__label {background-color: #d4ebff;}#sk-container-id-4 div.sk-serial::before {content: \"\";position: absolute;border-left: 1px solid gray;box-sizing: border-box;top: 0;bottom: 0;left: 50%;z-index: 0;}#sk-container-id-4 div.sk-serial {display: flex;flex-direction: column;align-items: center;background-color: white;padding-right: 0.2em;padding-left: 0.2em;position: relative;}#sk-container-id-4 div.sk-item {position: relative;z-index: 1;}#sk-container-id-4 div.sk-parallel {display: flex;align-items: stretch;justify-content: center;background-color: white;position: relative;}#sk-container-id-4 div.sk-item::before, #sk-container-id-4 div.sk-parallel-item::before {content: \"\";position: absolute;border-left: 1px solid gray;box-sizing: border-box;top: 0;bottom: 0;left: 50%;z-index: -1;}#sk-container-id-4 div.sk-parallel-item {display: flex;flex-direction: column;z-index: 1;position: relative;background-color: white;}#sk-container-id-4 div.sk-parallel-item:first-child::after {align-self: flex-end;width: 50%;}#sk-container-id-4 div.sk-parallel-item:last-child::after {align-self: flex-start;width: 50%;}#sk-container-id-4 div.sk-parallel-item:only-child::after {width: 0;}#sk-container-id-4 div.sk-dashed-wrapped {border: 1px dashed gray;margin: 0 0.4em 0.5em 0.4em;box-sizing: border-box;padding-bottom: 0.4em;background-color: white;}#sk-container-id-4 div.sk-label label {font-family: monospace;font-weight: bold;display: inline-block;line-height: 1.2em;}#sk-container-id-4 div.sk-label-container {text-align: center;}#sk-container-id-4 div.sk-container {/* jupyter's `normalize.less` sets `[hidden] { display: none; }` but bootstrap.min.css set `[hidden] { display: none !important; }` so we also need the `!important` here to be able to override the default hidden behavior on the sphinx rendered scikit-learn.org. See: https://github.com/scikit-learn/scikit-learn/issues/21755 */display: inline-block !important;position: relative;}#sk-container-id-4 div.sk-text-repr-fallback {display: none;}</style><div id=\"sk-container-id-4\" class=\"sk-top-container\"><div class=\"sk-text-repr-fallback\"><pre>RandomForestRegressor(max_features=None, min_samples_leaf=2, n_estimators=200,\n",
       "                      n_jobs=-1, random_state=11)</pre><b>In a Jupyter environment, please rerun this cell to show the HTML representation or trust the notebook. <br />On GitHub, the HTML representation is unable to render, please try loading this page with nbviewer.org.</b></div><div class=\"sk-container\" hidden><div class=\"sk-item\"><div class=\"sk-estimator sk-toggleable\"><input class=\"sk-toggleable__control sk-hidden--visually\" id=\"sk-estimator-id-8\" type=\"checkbox\" checked><label for=\"sk-estimator-id-8\" class=\"sk-toggleable__label sk-toggleable__label-arrow\">RandomForestRegressor</label><div class=\"sk-toggleable__content\"><pre>RandomForestRegressor(max_features=None, min_samples_leaf=2, n_estimators=200,\n",
       "                      n_jobs=-1, random_state=11)</pre></div></div></div></div></div>"
      ],
      "text/plain": [
       "RandomForestRegressor(max_features=None, min_samples_leaf=2, n_estimators=200,\n",
       "                      n_jobs=-1, random_state=11)"
      ]
     },
     "execution_count": 23,
     "metadata": {},
     "output_type": "execute_result"
    }
   ],
   "source": [
    "# Create new model based on hyperparameter tuning best-found parameters\n",
    "# Train tuned model\n",
    "best_model = RandomForestRegressor(n_jobs=-1, random_state=11, n_estimators=200, min_samples_split=2, min_samples_leaf=2, max_features=None, max_depth=None)\n",
    "\n",
    "best_model.fit(X_train, y_train)"
   ]
  },
  {
   "cell_type": "markdown",
   "id": "87e91b3f",
   "metadata": {},
   "source": [
    "Evaluate the tuned model on our test metrics for final results"
   ]
  },
  {
   "cell_type": "code",
   "execution_count": 24,
   "id": "d3874ffb",
   "metadata": {},
   "outputs": [
    {
     "data": {
      "text/plain": [
       "{'Test Mean Absolute Error': 46733.25665491508,\n",
       " 'Test Root Mean Squared Log Error': 0.31165105016180406,\n",
       " 'Test Coefficient of Determination (R^2)': 0.6432329880189673}"
      ]
     },
     "execution_count": 24,
     "metadata": {},
     "output_type": "execute_result"
    }
   ],
   "source": [
    "evaluate_test_metrics(model)"
   ]
  },
  {
   "cell_type": "markdown",
   "id": "407c903c",
   "metadata": {},
   "source": [
    "Our final metrics:\n",
    "* Mean Absolute Error (in USD): 46,733.26\n",
    "* Root Mean Squared Log Error: 0.311\n",
    "* Coefficient of Determination: 0.643\n",
    "\n",
    "We were able to slightly improve all metrics from the baseline with hyperparameter tuning."
   ]
  },
  {
   "cell_type": "markdown",
   "id": "29212a45",
   "metadata": {},
   "source": [
    "Our model was able to meet the metrics requirements for the root mean squared log error. The requirement was to be below 0.8 and our model measured at 0.311\n",
    "\n",
    "The model did not meet the mean absolute error goal requirement. The goal was to be below $30,000, but the model's final metric was $46,733.26.\n",
    "\n",
    "The model was just unable to meet the Coefficient of Determination requirement, whose goal was to be above 0.65. Our model measured at 0.643."
   ]
  },
  {
   "cell_type": "markdown",
   "id": "ee07b38d",
   "metadata": {},
   "source": [
    "Some ways we might improve the results in the future:\n",
    "* Buying more data so that we can remove NaN values and/or have a larger dataset on which to train\n",
    "* Purchase different data that isn't self-reported\n",
    "* Perform longer, more exhaustive searches using the hyperparameter tuning tools seen previously"
   ]
  },
  {
   "cell_type": "markdown",
   "id": "a32fd4b3",
   "metadata": {},
   "source": [
    "# Try it Yourself\n",
    "\n",
    "When prompted, type data for yourself or an example tech worker and press enter. The model will run on your data and output an estimated salary."
   ]
  },
  {
   "cell_type": "markdown",
   "id": "6683325b",
   "metadata": {},
   "source": [
    "Please ensure you have run the most recent model with best parameters in the Evaluation Section before trying it yourself. Please follow the prompts in the following cell."
   ]
  },
  {
   "cell_type": "code",
   "execution_count": 25,
   "id": "c8c1ae5e",
   "metadata": {},
   "outputs": [
    {
     "name": "stdout",
     "output_type": "stream",
     "text": [
      "What company do you work for?  Google\n",
      "What's your job title? (Ex. 'Software Engineer')  Software Engineer\n",
      "Type in a job level if you have one (ex. Google has levels like L1, L2,...)  L2\n",
      "What is your education level? Please type: 'Bachelor's Degree', 'Master's Degree', 'Some College', 'High School', or 'PhD'  Bachelor's Degree\n",
      "Please enter your location as 'City, State Code' or 'City, Country'. (Ex. 'Sacramento, CA')  New York, NY\n",
      "Please enter your DMA ID(Ex. New York Designated Market Area would be '501')  501\n",
      "Please enter your years of experience as an integer  5\n",
      "Please enter your years at the company as an integer  2\n",
      "\n",
      "\n",
      "\n",
      "According to the model, your annual compensation should be: $ 305441.11904761894\n",
      "Thanks for playing!\n"
     ]
    }
   ],
   "source": [
    "user_company = input(\"What company do you work for?  \")\n",
    "user_title = input(\"What's your job title? (Ex. 'Software Engineer')  \")\n",
    "user_level = input(\"Type in a job level if you have one (ex. Google has levels like L1, L2,...)  \")\n",
    "user_education = input(\"What is your education level? Please type: 'Bachelor's Degree', 'Master's Degree', 'Some College', 'High School', or 'PhD'  \")\n",
    "user_location = input(\"Please enter your location as 'City, State Code' or 'City, Country'. (Ex. 'Sacramento, CA')  \")\n",
    "user_dmaid = input(\"Please enter your DMA ID(Ex. New York Designated Market Area would be '501')  \")\n",
    "user_yoe = int(input(\"Please enter your years of experience as an integer  \"))\n",
    "user_yac = int(input(\"Please enter your years at the company as an integer  \"))\n",
    "\n",
    "# Add user data to a new dataframe\n",
    "\n",
    "data = [[user_company, user_level, user_title, user_location, user_yoe, user_yac, user_dmaid, user_education]]\n",
    "  \n",
    "# Create the pandas DataFrame\n",
    "user_df = pd.DataFrame(data, columns=['company', 'level', 'title', 'location', 'yearsofexperience', 'yearsatcompany', 'dmaid', 'education'])\n",
    "  \n",
    "# Create set of features from dataframe\n",
    "user_df['company'] = df['company'].astype(\"category\").cat.as_ordered()\n",
    "user_df['title'] = df['title'].astype(\"category\").cat.as_ordered()\n",
    "user_df['location'] = df['location'].astype(\"category\").cat.as_ordered()\n",
    "user_df['education'] = df['education'].astype(\"category\").cat.as_ordered()\n",
    "user_df['level'] = df['level'].astype(\"category\").cat.as_ordered()\n",
    "user_df['dmaid'] = df['dmaid'].astype(\"category\").cat.as_ordered()\n",
    "\n",
    "# Turn categorical variables into numbers\n",
    "for label, content in user_df.items():\n",
    "    if not pd.api.types.is_numeric_dtype(content):\n",
    "        # Missing value column\n",
    "        user_df[label+\"_is_missing\"] = pd.isnull(content)\n",
    "        # Ensure missing val is coded as 0 for numeric\n",
    "        user_df[label] = pd.Categorical(content).codes+1 \n",
    "        \n",
    "user_X = user_df\n",
    "\n",
    "user_prediction = best_model.predict(user_X)\n",
    "\n",
    "print(\"\\n\\n\\nAccording to the model, your annual compensation should be: $\", user_prediction[0])\n",
    "print(\"Thanks for playing!\")\n"
   ]
  }
 ],
 "metadata": {
  "kernelspec": {
   "display_name": "Python 3 (ipykernel)",
   "language": "python",
   "name": "python3"
  },
  "language_info": {
   "codemirror_mode": {
    "name": "ipython",
    "version": 3
   },
   "file_extension": ".py",
   "mimetype": "text/x-python",
   "name": "python",
   "nbconvert_exporter": "python",
   "pygments_lexer": "ipython3",
   "version": "3.10.6"
  }
 },
 "nbformat": 4,
 "nbformat_minor": 5
}
