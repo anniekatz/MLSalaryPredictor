{
 "cells": [
  {
   "cell_type": "markdown",
   "id": "25fe8890",
   "metadata": {},
   "source": [
    "# Model to predict salary bracket for tech workers"
   ]
  },
  {
   "cell_type": "code",
   "execution_count": 1,
   "id": "98ad6b10",
   "metadata": {},
   "outputs": [],
   "source": [
    "# look at notes from ZTM gh to annotate\n",
    "# should we do classifier or regression model?\n",
    "# given parameters about a perspn, can we determine which salary bracket they belong in?\n",
    "\n",
    "# what accuracy do we need?\n",
    "# speed may be more important than accuracy if we're a social networking site\n",
    "# mention that we split data and deleted non us, better for speed and we're a US focused company\n",
    "\n",
    "# ideas\n",
    "# big city? boolean data pt, or fortune 500 company? data point\n",
    "### use data analysis to make sure theyre related if you add them\n",
    "# remove outliers\n",
    "# switch to regression\n",
    "# random search and grid search\n",
    "# change random seed\n",
    "# put all code in vscode with copilot at the end for pep8 etc suggestions\n",
    "# add graphs throughout like while exploring data to make communicative visuals (plot columns against target, etc.)\n",
    "# rewrite everything obviosuyl\n",
    "# does location matter? big city instead?\n",
    "# you can use salary brackets just for data visualization purpose\n",
    "# calculate mean salary for each job, for each education, city etc.\n",
    "## if job matters, you can have a column that says engineer? or manager?\n",
    "\n",
    "\n",
    "# steps\n",
    "# change data set to be bracket-based and resave either into new csv or dataframe\n",
    "# clean data if necessary\n",
    "# make data numeric if you want\n",
    "# shuffle and split data\n",
    "# model and fit data\n",
    "# evaluate and tune"
   ]
  },
  {
   "cell_type": "code",
   "execution_count": 2,
   "id": "87ef6c99",
   "metadata": {},
   "outputs": [],
   "source": [
    "import numpy as np\n",
    "import pandas as pd\n",
    "import seaborn as seaborn\n",
    "import matplotlib.pyplot as plt\n",
    "# make visualizations appear inside notebook\n",
    "%matplotlib inline\n",
    "\n",
    "from sklearn.preprocessing import OneHotEncoder\n",
    "from sklearn.compose import ColumnTransformer\n",
    "from sklearn.ensemble import RandomForestRegressor\n",
    "from sklearn.model_selection import train_test_split, cross_val_score, RandomizedSearchCV, GridSearchCV\n",
    "from sklearn.metrics import confusion_matrix, mean_squared_log_error, mean_absolute_error, r2_score, plot_roc_curve\n"
   ]
  },
  {
   "cell_type": "code",
   "execution_count": 3,
   "id": "1179f7bb",
   "metadata": {},
   "outputs": [
    {
     "data": {
      "text/html": [
       "<div>\n",
       "<style scoped>\n",
       "    .dataframe tbody tr th:only-of-type {\n",
       "        vertical-align: middle;\n",
       "    }\n",
       "\n",
       "    .dataframe tbody tr th {\n",
       "        vertical-align: top;\n",
       "    }\n",
       "\n",
       "    .dataframe thead th {\n",
       "        text-align: right;\n",
       "    }\n",
       "</style>\n",
       "<table border=\"1\" class=\"dataframe\">\n",
       "  <thead>\n",
       "    <tr style=\"text-align: right;\">\n",
       "      <th></th>\n",
       "      <th>company</th>\n",
       "      <th>level</th>\n",
       "      <th>title</th>\n",
       "      <th>annualcomp</th>\n",
       "      <th>location</th>\n",
       "      <th>yearsofexperience</th>\n",
       "      <th>yearsatcompany</th>\n",
       "      <th>cityid</th>\n",
       "      <th>dmaid</th>\n",
       "      <th>education</th>\n",
       "    </tr>\n",
       "  </thead>\n",
       "  <tbody>\n",
       "    <tr>\n",
       "      <th>0</th>\n",
       "      <td>Facebook</td>\n",
       "      <td>E9</td>\n",
       "      <td>Product Manager</td>\n",
       "      <td>4980000</td>\n",
       "      <td>Menlo Park, CA</td>\n",
       "      <td>17.0</td>\n",
       "      <td>0.0</td>\n",
       "      <td>7300</td>\n",
       "      <td>807.0</td>\n",
       "      <td>Master's Degree</td>\n",
       "    </tr>\n",
       "    <tr>\n",
       "      <th>1</th>\n",
       "      <td>Microsoft</td>\n",
       "      <td>80</td>\n",
       "      <td>Software Engineering Manager</td>\n",
       "      <td>4950000</td>\n",
       "      <td>Redmond, WA</td>\n",
       "      <td>24.0</td>\n",
       "      <td>8.0</td>\n",
       "      <td>11521</td>\n",
       "      <td>819.0</td>\n",
       "      <td>NaN</td>\n",
       "    </tr>\n",
       "    <tr>\n",
       "      <th>2</th>\n",
       "      <td>Google</td>\n",
       "      <td>L10</td>\n",
       "      <td>Product Manager</td>\n",
       "      <td>4500000</td>\n",
       "      <td>San Francisco, CA</td>\n",
       "      <td>20.0</td>\n",
       "      <td>14.0</td>\n",
       "      <td>7419</td>\n",
       "      <td>807.0</td>\n",
       "      <td>Master's Degree</td>\n",
       "    </tr>\n",
       "    <tr>\n",
       "      <th>3</th>\n",
       "      <td>Facebook</td>\n",
       "      <td>E9</td>\n",
       "      <td>Software Engineer</td>\n",
       "      <td>4490000</td>\n",
       "      <td>Menlo Park, CA</td>\n",
       "      <td>13.0</td>\n",
       "      <td>9.0</td>\n",
       "      <td>7300</td>\n",
       "      <td>807.0</td>\n",
       "      <td>NaN</td>\n",
       "    </tr>\n",
       "    <tr>\n",
       "      <th>4</th>\n",
       "      <td>Snap</td>\n",
       "      <td>L8</td>\n",
       "      <td>Software Engineering Manager</td>\n",
       "      <td>2500000</td>\n",
       "      <td>Los Angeles, CA</td>\n",
       "      <td>20.0</td>\n",
       "      <td>4.0</td>\n",
       "      <td>7275</td>\n",
       "      <td>803.0</td>\n",
       "      <td>NaN</td>\n",
       "    </tr>\n",
       "    <tr>\n",
       "      <th>...</th>\n",
       "      <td>...</td>\n",
       "      <td>...</td>\n",
       "      <td>...</td>\n",
       "      <td>...</td>\n",
       "      <td>...</td>\n",
       "      <td>...</td>\n",
       "      <td>...</td>\n",
       "      <td>...</td>\n",
       "      <td>...</td>\n",
       "      <td>...</td>\n",
       "    </tr>\n",
       "    <tr>\n",
       "      <th>62637</th>\n",
       "      <td>Tata Consultancy Services</td>\n",
       "      <td>L1</td>\n",
       "      <td>Software Engineer</td>\n",
       "      <td>10000</td>\n",
       "      <td>Noida, UP, India</td>\n",
       "      <td>2.0</td>\n",
       "      <td>2.0</td>\n",
       "      <td>42631</td>\n",
       "      <td>0.0</td>\n",
       "      <td>Bachelor's Degree</td>\n",
       "    </tr>\n",
       "    <tr>\n",
       "      <th>62638</th>\n",
       "      <td>Xendit</td>\n",
       "      <td>L3</td>\n",
       "      <td>Software Engineer</td>\n",
       "      <td>10000</td>\n",
       "      <td>Jakarta, JK, Indonesia</td>\n",
       "      <td>1.0</td>\n",
       "      <td>1.0</td>\n",
       "      <td>4010</td>\n",
       "      <td>0.0</td>\n",
       "      <td>Bachelor's Degree</td>\n",
       "    </tr>\n",
       "    <tr>\n",
       "      <th>62639</th>\n",
       "      <td>Manhattan Associates</td>\n",
       "      <td>Software Engineer</td>\n",
       "      <td>Software Engineer</td>\n",
       "      <td>10000</td>\n",
       "      <td>Bangalore, KA, India</td>\n",
       "      <td>4.0</td>\n",
       "      <td>4.0</td>\n",
       "      <td>4058</td>\n",
       "      <td>0.0</td>\n",
       "      <td>Bachelor's Degree</td>\n",
       "    </tr>\n",
       "    <tr>\n",
       "      <th>62640</th>\n",
       "      <td>Infosys</td>\n",
       "      <td>L4</td>\n",
       "      <td>Software Engineer</td>\n",
       "      <td>10000</td>\n",
       "      <td>Pune, MH, India</td>\n",
       "      <td>6.0</td>\n",
       "      <td>4.0</td>\n",
       "      <td>4062</td>\n",
       "      <td>0.0</td>\n",
       "      <td>Bachelor's Degree</td>\n",
       "    </tr>\n",
       "    <tr>\n",
       "      <th>62641</th>\n",
       "      <td>EPAM Systems</td>\n",
       "      <td>L2</td>\n",
       "      <td>Software Engineer</td>\n",
       "      <td>10000</td>\n",
       "      <td>Tashkent, TO, Uzbekistan</td>\n",
       "      <td>2.0</td>\n",
       "      <td>1.0</td>\n",
       "      <td>4959</td>\n",
       "      <td>0.0</td>\n",
       "      <td>Master's Degree</td>\n",
       "    </tr>\n",
       "  </tbody>\n",
       "</table>\n",
       "<p>62642 rows × 10 columns</p>\n",
       "</div>"
      ],
      "text/plain": [
       "                         company              level  \\\n",
       "0                       Facebook                 E9   \n",
       "1                      Microsoft                 80   \n",
       "2                         Google                L10   \n",
       "3                       Facebook                 E9   \n",
       "4                           Snap                 L8   \n",
       "...                          ...                ...   \n",
       "62637  Tata Consultancy Services                 L1   \n",
       "62638                     Xendit                 L3   \n",
       "62639       Manhattan Associates  Software Engineer   \n",
       "62640                    Infosys                 L4   \n",
       "62641               EPAM Systems                 L2   \n",
       "\n",
       "                              title  annualcomp                  location  \\\n",
       "0                   Product Manager     4980000            Menlo Park, CA   \n",
       "1      Software Engineering Manager     4950000               Redmond, WA   \n",
       "2                   Product Manager     4500000         San Francisco, CA   \n",
       "3                 Software Engineer     4490000            Menlo Park, CA   \n",
       "4      Software Engineering Manager     2500000           Los Angeles, CA   \n",
       "...                             ...         ...                       ...   \n",
       "62637             Software Engineer       10000          Noida, UP, India   \n",
       "62638             Software Engineer       10000    Jakarta, JK, Indonesia   \n",
       "62639             Software Engineer       10000      Bangalore, KA, India   \n",
       "62640             Software Engineer       10000           Pune, MH, India   \n",
       "62641             Software Engineer       10000  Tashkent, TO, Uzbekistan   \n",
       "\n",
       "       yearsofexperience  yearsatcompany  cityid  dmaid          education  \n",
       "0                   17.0             0.0    7300  807.0    Master's Degree  \n",
       "1                   24.0             8.0   11521  819.0                NaN  \n",
       "2                   20.0            14.0    7419  807.0    Master's Degree  \n",
       "3                   13.0             9.0    7300  807.0                NaN  \n",
       "4                   20.0             4.0    7275  803.0                NaN  \n",
       "...                  ...             ...     ...    ...                ...  \n",
       "62637                2.0             2.0   42631    0.0  Bachelor's Degree  \n",
       "62638                1.0             1.0    4010    0.0  Bachelor's Degree  \n",
       "62639                4.0             4.0    4058    0.0  Bachelor's Degree  \n",
       "62640                6.0             4.0    4062    0.0  Bachelor's Degree  \n",
       "62641                2.0             1.0    4959    0.0    Master's Degree  \n",
       "\n",
       "[62642 rows x 10 columns]"
      ]
     },
     "execution_count": 3,
     "metadata": {},
     "output_type": "execute_result"
    }
   ],
   "source": [
    "df = pd.read_csv(\"./data/Levels_Fyi_Salary_Data_edited.csv\")\n",
    "df"
   ]
  },
  {
   "cell_type": "code",
   "execution_count": 4,
   "id": "70837641",
   "metadata": {},
   "outputs": [
    {
     "data": {
      "text/html": [
       "<div>\n",
       "<style scoped>\n",
       "    .dataframe tbody tr th:only-of-type {\n",
       "        vertical-align: middle;\n",
       "    }\n",
       "\n",
       "    .dataframe tbody tr th {\n",
       "        vertical-align: top;\n",
       "    }\n",
       "\n",
       "    .dataframe thead th {\n",
       "        text-align: right;\n",
       "    }\n",
       "</style>\n",
       "<table border=\"1\" class=\"dataframe\">\n",
       "  <thead>\n",
       "    <tr style=\"text-align: right;\">\n",
       "      <th></th>\n",
       "      <th>company</th>\n",
       "      <th>level</th>\n",
       "      <th>title</th>\n",
       "      <th>annualcomp</th>\n",
       "      <th>location</th>\n",
       "      <th>yearsofexperience</th>\n",
       "      <th>yearsatcompany</th>\n",
       "      <th>dmaid</th>\n",
       "      <th>education</th>\n",
       "    </tr>\n",
       "  </thead>\n",
       "  <tbody>\n",
       "    <tr>\n",
       "      <th>0</th>\n",
       "      <td>Facebook</td>\n",
       "      <td>E9</td>\n",
       "      <td>Product Manager</td>\n",
       "      <td>4980000</td>\n",
       "      <td>Menlo Park, CA</td>\n",
       "      <td>17.0</td>\n",
       "      <td>0.0</td>\n",
       "      <td>807.0</td>\n",
       "      <td>Master's Degree</td>\n",
       "    </tr>\n",
       "    <tr>\n",
       "      <th>1</th>\n",
       "      <td>Microsoft</td>\n",
       "      <td>80</td>\n",
       "      <td>Software Engineering Manager</td>\n",
       "      <td>4950000</td>\n",
       "      <td>Redmond, WA</td>\n",
       "      <td>24.0</td>\n",
       "      <td>8.0</td>\n",
       "      <td>819.0</td>\n",
       "      <td>NaN</td>\n",
       "    </tr>\n",
       "    <tr>\n",
       "      <th>2</th>\n",
       "      <td>Google</td>\n",
       "      <td>L10</td>\n",
       "      <td>Product Manager</td>\n",
       "      <td>4500000</td>\n",
       "      <td>San Francisco, CA</td>\n",
       "      <td>20.0</td>\n",
       "      <td>14.0</td>\n",
       "      <td>807.0</td>\n",
       "      <td>Master's Degree</td>\n",
       "    </tr>\n",
       "    <tr>\n",
       "      <th>3</th>\n",
       "      <td>Facebook</td>\n",
       "      <td>E9</td>\n",
       "      <td>Software Engineer</td>\n",
       "      <td>4490000</td>\n",
       "      <td>Menlo Park, CA</td>\n",
       "      <td>13.0</td>\n",
       "      <td>9.0</td>\n",
       "      <td>807.0</td>\n",
       "      <td>NaN</td>\n",
       "    </tr>\n",
       "    <tr>\n",
       "      <th>4</th>\n",
       "      <td>Snap</td>\n",
       "      <td>L8</td>\n",
       "      <td>Software Engineering Manager</td>\n",
       "      <td>2500000</td>\n",
       "      <td>Los Angeles, CA</td>\n",
       "      <td>20.0</td>\n",
       "      <td>4.0</td>\n",
       "      <td>803.0</td>\n",
       "      <td>NaN</td>\n",
       "    </tr>\n",
       "    <tr>\n",
       "      <th>...</th>\n",
       "      <td>...</td>\n",
       "      <td>...</td>\n",
       "      <td>...</td>\n",
       "      <td>...</td>\n",
       "      <td>...</td>\n",
       "      <td>...</td>\n",
       "      <td>...</td>\n",
       "      <td>...</td>\n",
       "      <td>...</td>\n",
       "    </tr>\n",
       "    <tr>\n",
       "      <th>62637</th>\n",
       "      <td>Tata Consultancy Services</td>\n",
       "      <td>L1</td>\n",
       "      <td>Software Engineer</td>\n",
       "      <td>10000</td>\n",
       "      <td>Noida, UP, India</td>\n",
       "      <td>2.0</td>\n",
       "      <td>2.0</td>\n",
       "      <td>0.0</td>\n",
       "      <td>Bachelor's Degree</td>\n",
       "    </tr>\n",
       "    <tr>\n",
       "      <th>62638</th>\n",
       "      <td>Xendit</td>\n",
       "      <td>L3</td>\n",
       "      <td>Software Engineer</td>\n",
       "      <td>10000</td>\n",
       "      <td>Jakarta, JK, Indonesia</td>\n",
       "      <td>1.0</td>\n",
       "      <td>1.0</td>\n",
       "      <td>0.0</td>\n",
       "      <td>Bachelor's Degree</td>\n",
       "    </tr>\n",
       "    <tr>\n",
       "      <th>62639</th>\n",
       "      <td>Manhattan Associates</td>\n",
       "      <td>Software Engineer</td>\n",
       "      <td>Software Engineer</td>\n",
       "      <td>10000</td>\n",
       "      <td>Bangalore, KA, India</td>\n",
       "      <td>4.0</td>\n",
       "      <td>4.0</td>\n",
       "      <td>0.0</td>\n",
       "      <td>Bachelor's Degree</td>\n",
       "    </tr>\n",
       "    <tr>\n",
       "      <th>62640</th>\n",
       "      <td>Infosys</td>\n",
       "      <td>L4</td>\n",
       "      <td>Software Engineer</td>\n",
       "      <td>10000</td>\n",
       "      <td>Pune, MH, India</td>\n",
       "      <td>6.0</td>\n",
       "      <td>4.0</td>\n",
       "      <td>0.0</td>\n",
       "      <td>Bachelor's Degree</td>\n",
       "    </tr>\n",
       "    <tr>\n",
       "      <th>62641</th>\n",
       "      <td>EPAM Systems</td>\n",
       "      <td>L2</td>\n",
       "      <td>Software Engineer</td>\n",
       "      <td>10000</td>\n",
       "      <td>Tashkent, TO, Uzbekistan</td>\n",
       "      <td>2.0</td>\n",
       "      <td>1.0</td>\n",
       "      <td>0.0</td>\n",
       "      <td>Master's Degree</td>\n",
       "    </tr>\n",
       "  </tbody>\n",
       "</table>\n",
       "<p>62642 rows × 9 columns</p>\n",
       "</div>"
      ],
      "text/plain": [
       "                         company              level  \\\n",
       "0                       Facebook                 E9   \n",
       "1                      Microsoft                 80   \n",
       "2                         Google                L10   \n",
       "3                       Facebook                 E9   \n",
       "4                           Snap                 L8   \n",
       "...                          ...                ...   \n",
       "62637  Tata Consultancy Services                 L1   \n",
       "62638                     Xendit                 L3   \n",
       "62639       Manhattan Associates  Software Engineer   \n",
       "62640                    Infosys                 L4   \n",
       "62641               EPAM Systems                 L2   \n",
       "\n",
       "                              title  annualcomp                  location  \\\n",
       "0                   Product Manager     4980000            Menlo Park, CA   \n",
       "1      Software Engineering Manager     4950000               Redmond, WA   \n",
       "2                   Product Manager     4500000         San Francisco, CA   \n",
       "3                 Software Engineer     4490000            Menlo Park, CA   \n",
       "4      Software Engineering Manager     2500000           Los Angeles, CA   \n",
       "...                             ...         ...                       ...   \n",
       "62637             Software Engineer       10000          Noida, UP, India   \n",
       "62638             Software Engineer       10000    Jakarta, JK, Indonesia   \n",
       "62639             Software Engineer       10000      Bangalore, KA, India   \n",
       "62640             Software Engineer       10000           Pune, MH, India   \n",
       "62641             Software Engineer       10000  Tashkent, TO, Uzbekistan   \n",
       "\n",
       "       yearsofexperience  yearsatcompany  dmaid          education  \n",
       "0                   17.0             0.0  807.0    Master's Degree  \n",
       "1                   24.0             8.0  819.0                NaN  \n",
       "2                   20.0            14.0  807.0    Master's Degree  \n",
       "3                   13.0             9.0  807.0                NaN  \n",
       "4                   20.0             4.0  803.0                NaN  \n",
       "...                  ...             ...    ...                ...  \n",
       "62637                2.0             2.0    0.0  Bachelor's Degree  \n",
       "62638                1.0             1.0    0.0  Bachelor's Degree  \n",
       "62639                4.0             4.0    0.0  Bachelor's Degree  \n",
       "62640                6.0             4.0    0.0  Bachelor's Degree  \n",
       "62641                2.0             1.0    0.0    Master's Degree  \n",
       "\n",
       "[62642 rows x 9 columns]"
      ]
     },
     "execution_count": 4,
     "metadata": {},
     "output_type": "execute_result"
    }
   ],
   "source": [
    "df = df.drop(\"cityid\", axis=1)\n",
    "df"
   ]
  },
  {
   "cell_type": "code",
   "execution_count": 5,
   "id": "6dfc18cf",
   "metadata": {},
   "outputs": [],
   "source": [
    "# do a grpah here or somehting idk. comapre two columns as x and y\n",
    "# look for trends\n",
    "# exploratory data analysis\n",
    "# df_bracketed"
   ]
  },
  {
   "cell_type": "code",
   "execution_count": 6,
   "id": "a9ed1417",
   "metadata": {},
   "outputs": [],
   "source": [
    "# explore the data idk e=whatever\n",
    "# then do some feature engineering\n",
    "\n",
    "#crosstab\n",
    "# maybe create salary brackets just for data visualization\n",
    "# create other parts of df like big city? etc. for data visualization\n",
    "# maybe 2 plots: years experience at a job and years experience in genral plotted against salary"
   ]
  },
  {
   "cell_type": "code",
   "execution_count": 7,
   "id": "c2855efa",
   "metadata": {},
   "outputs": [],
   "source": [
    "# convert string columns to categories \n",
    "# assigns a numerical value to each category\n",
    "#df['company'] = df['company'].astype(\"category\").cat.as_ordered()\n",
    "#df['title'] = df['title'].astype(\"category\").cat.as_ordered()\n",
    "#df['location'] = df['location'].astype(\"category\").cat.as_ordered()\n",
    "#df['education'] = df['education'].astype(\"category\").cat.as_ordered()\n",
    "#df"
   ]
  },
  {
   "cell_type": "code",
   "execution_count": 8,
   "id": "05c8e6e2",
   "metadata": {},
   "outputs": [
    {
     "data": {
      "text/plain": [
       "<AxesSubplot:xlabel='title'>"
      ]
     },
     "execution_count": 8,
     "metadata": {},
     "output_type": "execute_result"
    },
    {
     "data": {
      "image/png": "[encoded data removed]",
      "text/plain": [
       "<Figure size 640x480 with 1 Axes>"
      ]
     },
     "metadata": {},
     "output_type": "display_data"
    }
   ],
   "source": [
    "# add bracket for high paying tech careers according to https://www.simplilearn.com/highest-paying-tech-jobs-article or according to mean top paying\n",
    "# mean pay for each title\n",
    "\n",
    "df_means_by_title = df.groupby('title')['annualcomp'].mean()\n",
    "df_means_by_title.plot(kind=\"bar\")"
   ]
  },
  {
   "cell_type": "code",
   "execution_count": 9,
   "id": "8315ed7d",
   "metadata": {},
   "outputs": [
    {
     "data": {
      "text/plain": [
       "<AxesSubplot:xlabel='education'>"
      ]
     },
     "execution_count": 9,
     "metadata": {},
     "output_type": "execute_result"
    },
    {
     "data": {
      "image/png": "[encoded data removed]",
      "text/plain": [
       "<Figure size 640x480 with 1 Axes>"
      ]
     },
     "metadata": {},
     "output_type": "display_data"
    }
   ],
   "source": [
    "df_means_by_edu = df.groupby('education')['annualcomp'].mean()\n",
    "df_means_by_edu.plot(kind=\"bar\")"
   ]
  },
  {
   "cell_type": "code",
   "execution_count": 10,
   "id": "daee477b",
   "metadata": {},
   "outputs": [],
   "source": [
    "# split data into X and y\n",
    "# shuffle\n",
    "np.random.seed(11)\n",
    "df = df.sample(frac=1)\n",
    "\n",
    "X = df.drop(\"annualcomp\", axis=1)\n",
    "y = df[\"annualcomp\"]"
   ]
  },
  {
   "cell_type": "code",
   "execution_count": 11,
   "id": "e99b6a28",
   "metadata": {},
   "outputs": [],
   "source": [
    "# make sure its all numerical for model fitting\n",
    "# only if i didnt do it earlier\n",
    "\n",
    "str_features = ['company', 'title', 'location', 'education', 'level', 'dmaid']\n",
    "\n",
    "encoder = OneHotEncoder()\n",
    "\n",
    "transformer = ColumnTransformer([('encoder', encoder, str_features)], remainder='passthrough')\n",
    "\n",
    "transformed_X = transformer.fit_transform(X)"
   ]
  },
  {
   "cell_type": "code",
   "execution_count": 12,
   "id": "96519215",
   "metadata": {},
   "outputs": [],
   "source": [
    "# split into training and test set\n",
    "\n",
    "#np.random.seed(11)\n",
    "\n",
    "#X_train, X_test, y_train, y_test = train_test_split(transformed_X, y, test_size=0.2)"
   ]
  },
  {
   "cell_type": "code",
   "execution_count": 13,
   "id": "d2f402f5",
   "metadata": {},
   "outputs": [],
   "source": [
    "#%%time\n",
    "#model = RandomForestRegressor(n_jobs=-1, random_state=11)\n",
    "\n",
    "#model.fit(X_train, y_train)"
   ]
  },
  {
   "cell_type": "code",
   "execution_count": 14,
   "id": "892194f1",
   "metadata": {},
   "outputs": [],
   "source": [
    "#model.score(X_train, y_train)"
   ]
  },
  {
   "cell_type": "code",
   "execution_count": 15,
   "id": "9eff1c49",
   "metadata": {},
   "outputs": [],
   "source": [
    "#model.score(X_test, y_test)"
   ]
  },
  {
   "cell_type": "code",
   "execution_count": 16,
   "id": "bf062d54",
   "metadata": {},
   "outputs": [
    {
     "data": {
      "text/html": [
       "<style>#sk-container-id-1 {color: black;background-color: white;}#sk-container-id-1 pre{padding: 0;}#sk-container-id-1 div.sk-toggleable {background-color: white;}#sk-container-id-1 label.sk-toggleable__label {cursor: pointer;display: block;width: 100%;margin-bottom: 0;padding: 0.3em;box-sizing: border-box;text-align: center;}#sk-container-id-1 label.sk-toggleable__label-arrow:before {content: \"▸\";float: left;margin-right: 0.25em;color: #696969;}#sk-container-id-1 label.sk-toggleable__label-arrow:hover:before {color: black;}#sk-container-id-1 div.sk-estimator:hover label.sk-toggleable__label-arrow:before {color: black;}#sk-container-id-1 div.sk-toggleable__content {max-height: 0;max-width: 0;overflow: hidden;text-align: left;background-color: #f0f8ff;}#sk-container-id-1 div.sk-toggleable__content pre {margin: 0.2em;color: black;border-radius: 0.25em;background-color: #f0f8ff;}#sk-container-id-1 input.sk-toggleable__control:checked~div.sk-toggleable__content {max-height: 200px;max-width: 100%;overflow: auto;}#sk-container-id-1 input.sk-toggleable__control:checked~label.sk-toggleable__label-arrow:before {content: \"▾\";}#sk-container-id-1 div.sk-estimator input.sk-toggleable__control:checked~label.sk-toggleable__label {background-color: #d4ebff;}#sk-container-id-1 div.sk-label input.sk-toggleable__control:checked~label.sk-toggleable__label {background-color: #d4ebff;}#sk-container-id-1 input.sk-hidden--visually {border: 0;clip: rect(1px 1px 1px 1px);clip: rect(1px, 1px, 1px, 1px);height: 1px;margin: -1px;overflow: hidden;padding: 0;position: absolute;width: 1px;}#sk-container-id-1 div.sk-estimator {font-family: monospace;background-color: #f0f8ff;border: 1px dotted black;border-radius: 0.25em;box-sizing: border-box;margin-bottom: 0.5em;}#sk-container-id-1 div.sk-estimator:hover {background-color: #d4ebff;}#sk-container-id-1 div.sk-parallel-item::after {content: \"\";width: 100%;border-bottom: 1px solid gray;flex-grow: 1;}#sk-container-id-1 div.sk-label:hover label.sk-toggleable__label {background-color: #d4ebff;}#sk-container-id-1 div.sk-serial::before {content: \"\";position: absolute;border-left: 1px solid gray;box-sizing: border-box;top: 0;bottom: 0;left: 50%;z-index: 0;}#sk-container-id-1 div.sk-serial {display: flex;flex-direction: column;align-items: center;background-color: white;padding-right: 0.2em;padding-left: 0.2em;position: relative;}#sk-container-id-1 div.sk-item {position: relative;z-index: 1;}#sk-container-id-1 div.sk-parallel {display: flex;align-items: stretch;justify-content: center;background-color: white;position: relative;}#sk-container-id-1 div.sk-item::before, #sk-container-id-1 div.sk-parallel-item::before {content: \"\";position: absolute;border-left: 1px solid gray;box-sizing: border-box;top: 0;bottom: 0;left: 50%;z-index: -1;}#sk-container-id-1 div.sk-parallel-item {display: flex;flex-direction: column;z-index: 1;position: relative;background-color: white;}#sk-container-id-1 div.sk-parallel-item:first-child::after {align-self: flex-end;width: 50%;}#sk-container-id-1 div.sk-parallel-item:last-child::after {align-self: flex-start;width: 50%;}#sk-container-id-1 div.sk-parallel-item:only-child::after {width: 0;}#sk-container-id-1 div.sk-dashed-wrapped {border: 1px dashed gray;margin: 0 0.4em 0.5em 0.4em;box-sizing: border-box;padding-bottom: 0.4em;background-color: white;}#sk-container-id-1 div.sk-label label {font-family: monospace;font-weight: bold;display: inline-block;line-height: 1.2em;}#sk-container-id-1 div.sk-label-container {text-align: center;}#sk-container-id-1 div.sk-container {/* jupyter's `normalize.less` sets `[hidden] { display: none; }` but bootstrap.min.css set `[hidden] { display: none !important; }` so we also need the `!important` here to be able to override the default hidden behavior on the sphinx rendered scikit-learn.org. See: https://github.com/scikit-learn/scikit-learn/issues/21755 */display: inline-block !important;position: relative;}#sk-container-id-1 div.sk-text-repr-fallback {display: none;}</style><div id=\"sk-container-id-1\" class=\"sk-top-container\"><div class=\"sk-text-repr-fallback\"><pre>RandomForestRegressor(n_jobs=-1, random_state=11)</pre><b>In a Jupyter environment, please rerun this cell to show the HTML representation or trust the notebook. <br />On GitHub, the HTML representation is unable to render, please try loading this page with nbviewer.org.</b></div><div class=\"sk-container\" hidden><div class=\"sk-item\"><div class=\"sk-estimator sk-toggleable\"><input class=\"sk-toggleable__control sk-hidden--visually\" id=\"sk-estimator-id-1\" type=\"checkbox\" checked><label for=\"sk-estimator-id-1\" class=\"sk-toggleable__label sk-toggleable__label-arrow\">RandomForestRegressor</label><div class=\"sk-toggleable__content\"><pre>RandomForestRegressor(n_jobs=-1, random_state=11)</pre></div></div></div></div></div>"
      ],
      "text/plain": [
       "RandomForestRegressor(n_jobs=-1, random_state=11)"
      ]
     },
     "execution_count": 16,
     "metadata": {},
     "output_type": "execute_result"
    }
   ],
   "source": [
    "# split into training, test and validation\n",
    "# idk when im supposed to do this hoenstly\n",
    "\n",
    "# split into training, validation, and test\n",
    "train_split_point = round(0.7*len(df))\n",
    "valid_split_point = round(train_split_point + (0.15*len(df)))\n",
    "\n",
    "X_train, y_train = transformed_X[:train_split_point], y[:train_split_point]\n",
    "X_valid, y_valid = transformed_X[train_split_point:valid_split_point], y[train_split_point:valid_split_point]\n",
    "X_test, y_test = transformed_X[valid_split_point:], y[valid_split_point:]\n",
    "\n",
    "model = RandomForestRegressor(n_jobs=-1, random_state=11)\n",
    "model.fit(X_train, y_train)"
   ]
  },
  {
   "cell_type": "code",
   "execution_count": 17,
   "id": "94a1ed09",
   "metadata": {},
   "outputs": [
    {
     "data": {
      "text/plain": [
       "0.9459271983640846"
      ]
     },
     "execution_count": 17,
     "metadata": {},
     "output_type": "execute_result"
    }
   ],
   "source": [
    "model.score(X_train, y_train)"
   ]
  },
  {
   "cell_type": "code",
   "execution_count": 18,
   "id": "f85d8ff0",
   "metadata": {},
   "outputs": [
    {
     "data": {
      "text/plain": [
       "0.6739368564539499"
      ]
     },
     "execution_count": 18,
     "metadata": {},
     "output_type": "execute_result"
    }
   ],
   "source": [
    "# score function uses coefficient of determination\n",
    "model.score(X_valid,y_valid)"
   ]
  },
  {
   "cell_type": "code",
   "execution_count": 19,
   "id": "e6dee1aa",
   "metadata": {},
   "outputs": [],
   "source": [
    "def evaluate_metrics(model):\n",
    "    train_preds = model.predict(X_train)\n",
    "    val_preds = model.predict(X_valid)\n",
    "    scores = {\"Training MAE\": mean_absolute_error(y_train, train_preds),\n",
    "              \"Valid MAE\": mean_absolute_error(y_valid, val_preds),\n",
    "              \"Training MSE\": mean_squared_log_error(y_train, train_preds),\n",
    "              \"Validation MSE\": mean_squared_log_error(y_valid, val_preds),\n",
    "              \"Training R^2\": r2_score(y_train, train_preds),\n",
    "              \"Valid R^2\": r2_score(y_valid, val_preds)}\n",
    "    return scores"
   ]
  },
  {
   "cell_type": "code",
   "execution_count": 20,
   "id": "24c8bc29",
   "metadata": {},
   "outputs": [
    {
     "data": {
      "text/plain": [
       "{'Training MAE': 17046.664845558502,\n",
       " 'Valid MAE': 42551.848460405694,\n",
       " 'Training MSE': 0.013979404479538625,\n",
       " 'Validation MSE': 0.0797804542575344,\n",
       " 'Training R^2': 0.9459271983640846,\n",
       " 'Valid R^2': 0.6739368564539499}"
      ]
     },
     "execution_count": 20,
     "metadata": {},
     "output_type": "execute_result"
    }
   ],
   "source": [
    "scores = evaluate_metrics(model)\n",
    "scores"
   ]
  },
  {
   "cell_type": "code",
   "execution_count": 21,
   "id": "416979a9",
   "metadata": {},
   "outputs": [],
   "source": [
    "# maybe do a bracketed classifier after to better improve scores"
   ]
  },
  {
   "cell_type": "code",
   "execution_count": 29,
   "id": "cad934eb",
   "metadata": {},
   "outputs": [
    {
     "name": "stdout",
     "output_type": "stream",
     "text": [
      "Fitting 3 folds for each of 10 candidates, totalling 30 fits\n"
     ]
    },
    {
     "data": {
      "text/html": [
       "<style>#sk-container-id-4 {color: black;background-color: white;}#sk-container-id-4 pre{padding: 0;}#sk-container-id-4 div.sk-toggleable {background-color: white;}#sk-container-id-4 label.sk-toggleable__label {cursor: pointer;display: block;width: 100%;margin-bottom: 0;padding: 0.3em;box-sizing: border-box;text-align: center;}#sk-container-id-4 label.sk-toggleable__label-arrow:before {content: \"▸\";float: left;margin-right: 0.25em;color: #696969;}#sk-container-id-4 label.sk-toggleable__label-arrow:hover:before {color: black;}#sk-container-id-4 div.sk-estimator:hover label.sk-toggleable__label-arrow:before {color: black;}#sk-container-id-4 div.sk-toggleable__content {max-height: 0;max-width: 0;overflow: hidden;text-align: left;background-color: #f0f8ff;}#sk-container-id-4 div.sk-toggleable__content pre {margin: 0.2em;color: black;border-radius: 0.25em;background-color: #f0f8ff;}#sk-container-id-4 input.sk-toggleable__control:checked~div.sk-toggleable__content {max-height: 200px;max-width: 100%;overflow: auto;}#sk-container-id-4 input.sk-toggleable__control:checked~label.sk-toggleable__label-arrow:before {content: \"▾\";}#sk-container-id-4 div.sk-estimator input.sk-toggleable__control:checked~label.sk-toggleable__label {background-color: #d4ebff;}#sk-container-id-4 div.sk-label input.sk-toggleable__control:checked~label.sk-toggleable__label {background-color: #d4ebff;}#sk-container-id-4 input.sk-hidden--visually {border: 0;clip: rect(1px 1px 1px 1px);clip: rect(1px, 1px, 1px, 1px);height: 1px;margin: -1px;overflow: hidden;padding: 0;position: absolute;width: 1px;}#sk-container-id-4 div.sk-estimator {font-family: monospace;background-color: #f0f8ff;border: 1px dotted black;border-radius: 0.25em;box-sizing: border-box;margin-bottom: 0.5em;}#sk-container-id-4 div.sk-estimator:hover {background-color: #d4ebff;}#sk-container-id-4 div.sk-parallel-item::after {content: \"\";width: 100%;border-bottom: 1px solid gray;flex-grow: 1;}#sk-container-id-4 div.sk-label:hover label.sk-toggleable__label {background-color: #d4ebff;}#sk-container-id-4 div.sk-serial::before {content: \"\";position: absolute;border-left: 1px solid gray;box-sizing: border-box;top: 0;bottom: 0;left: 50%;z-index: 0;}#sk-container-id-4 div.sk-serial {display: flex;flex-direction: column;align-items: center;background-color: white;padding-right: 0.2em;padding-left: 0.2em;position: relative;}#sk-container-id-4 div.sk-item {position: relative;z-index: 1;}#sk-container-id-4 div.sk-parallel {display: flex;align-items: stretch;justify-content: center;background-color: white;position: relative;}#sk-container-id-4 div.sk-item::before, #sk-container-id-4 div.sk-parallel-item::before {content: \"\";position: absolute;border-left: 1px solid gray;box-sizing: border-box;top: 0;bottom: 0;left: 50%;z-index: -1;}#sk-container-id-4 div.sk-parallel-item {display: flex;flex-direction: column;z-index: 1;position: relative;background-color: white;}#sk-container-id-4 div.sk-parallel-item:first-child::after {align-self: flex-end;width: 50%;}#sk-container-id-4 div.sk-parallel-item:last-child::after {align-self: flex-start;width: 50%;}#sk-container-id-4 div.sk-parallel-item:only-child::after {width: 0;}#sk-container-id-4 div.sk-dashed-wrapped {border: 1px dashed gray;margin: 0 0.4em 0.5em 0.4em;box-sizing: border-box;padding-bottom: 0.4em;background-color: white;}#sk-container-id-4 div.sk-label label {font-family: monospace;font-weight: bold;display: inline-block;line-height: 1.2em;}#sk-container-id-4 div.sk-label-container {text-align: center;}#sk-container-id-4 div.sk-container {/* jupyter's `normalize.less` sets `[hidden] { display: none; }` but bootstrap.min.css set `[hidden] { display: none !important; }` so we also need the `!important` here to be able to override the default hidden behavior on the sphinx rendered scikit-learn.org. See: https://github.com/scikit-learn/scikit-learn/issues/21755 */display: inline-block !important;position: relative;}#sk-container-id-4 div.sk-text-repr-fallback {display: none;}</style><div id=\"sk-container-id-4\" class=\"sk-top-container\"><div class=\"sk-text-repr-fallback\"><pre>RandomizedSearchCV(cv=3, error_score=&#x27;raise&#x27;,\n",
       "                   estimator=RandomForestRegressor(n_jobs=-1, random_state=11),\n",
       "                   param_distributions={&#x27;max_depth&#x27;: [10, 30, 50],\n",
       "                                        &#x27;max_features&#x27;: [&#x27;sqrt&#x27;, None],\n",
       "                                        &#x27;min_samples_split&#x27;: [2, 4, 6],\n",
       "                                        &#x27;n_estimators&#x27;: [50, 100, 150]},\n",
       "                   verbose=True)</pre><b>In a Jupyter environment, please rerun this cell to show the HTML representation or trust the notebook. <br />On GitHub, the HTML representation is unable to render, please try loading this page with nbviewer.org.</b></div><div class=\"sk-container\" hidden><div class=\"sk-item sk-dashed-wrapped\"><div class=\"sk-label-container\"><div class=\"sk-label sk-toggleable\"><input class=\"sk-toggleable__control sk-hidden--visually\" id=\"sk-estimator-id-8\" type=\"checkbox\" ><label for=\"sk-estimator-id-8\" class=\"sk-toggleable__label sk-toggleable__label-arrow\">RandomizedSearchCV</label><div class=\"sk-toggleable__content\"><pre>RandomizedSearchCV(cv=3, error_score=&#x27;raise&#x27;,\n",
       "                   estimator=RandomForestRegressor(n_jobs=-1, random_state=11),\n",
       "                   param_distributions={&#x27;max_depth&#x27;: [10, 30, 50],\n",
       "                                        &#x27;max_features&#x27;: [&#x27;sqrt&#x27;, None],\n",
       "                                        &#x27;min_samples_split&#x27;: [2, 4, 6],\n",
       "                                        &#x27;n_estimators&#x27;: [50, 100, 150]},\n",
       "                   verbose=True)</pre></div></div></div><div class=\"sk-parallel\"><div class=\"sk-parallel-item\"><div class=\"sk-item\"><div class=\"sk-label-container\"><div class=\"sk-label sk-toggleable\"><input class=\"sk-toggleable__control sk-hidden--visually\" id=\"sk-estimator-id-9\" type=\"checkbox\" ><label for=\"sk-estimator-id-9\" class=\"sk-toggleable__label sk-toggleable__label-arrow\">estimator: RandomForestRegressor</label><div class=\"sk-toggleable__content\"><pre>RandomForestRegressor(n_jobs=-1, random_state=11)</pre></div></div></div><div class=\"sk-serial\"><div class=\"sk-item\"><div class=\"sk-estimator sk-toggleable\"><input class=\"sk-toggleable__control sk-hidden--visually\" id=\"sk-estimator-id-10\" type=\"checkbox\" ><label for=\"sk-estimator-id-10\" class=\"sk-toggleable__label sk-toggleable__label-arrow\">RandomForestRegressor</label><div class=\"sk-toggleable__content\"><pre>RandomForestRegressor(n_jobs=-1, random_state=11)</pre></div></div></div></div></div></div></div></div></div></div>"
      ],
      "text/plain": [
       "RandomizedSearchCV(cv=3, error_score='raise',\n",
       "                   estimator=RandomForestRegressor(n_jobs=-1, random_state=11),\n",
       "                   param_distributions={'max_depth': [10, 30, 50],\n",
       "                                        'max_features': ['sqrt', None],\n",
       "                                        'min_samples_split': [2, 4, 6],\n",
       "                                        'n_estimators': [50, 100, 150]},\n",
       "                   verbose=True)"
      ]
     },
     "execution_count": 29,
     "metadata": {},
     "output_type": "execute_result"
    }
   ],
   "source": [
    "# tune hyperparameters with RandomizedSearchCV\n",
    "rs_grid = {'n_estimators': [50, 100, 150],\n",
    "           'max_depth': [10, 30, 50],\n",
    "           'max_features': [\"sqrt\", None],\n",
    "           'min_samples_split': [2,4,6],\n",
    "           }\n",
    "\n",
    "rs_model = RandomizedSearchCV(RandomForestRegressor(random_state=11, n_jobs=-1), param_distributions=rs_grid, n_iter=10, cv=3, verbose=True, error_score='raise')\n",
    "\n",
    "rs_model.fit(X_train, y_train)"
   ]
  },
  {
   "cell_type": "code",
   "execution_count": 30,
   "id": "0df88f0b",
   "metadata": {},
   "outputs": [
    {
     "data": {
      "text/plain": [
       "{'n_estimators': 100,\n",
       " 'min_samples_split': 2,\n",
       " 'max_features': None,\n",
       " 'max_depth': 50}"
      ]
     },
     "execution_count": 30,
     "metadata": {},
     "output_type": "execute_result"
    }
   ],
   "source": [
    "rs_model.best_params_\n",
    "\n",
    "# old best params with 100 est and rs 33:\n",
    "# n estimators 60\n",
    "# min samples split 32\n",
    "# min samples leaf 1\n",
    "# max features none\n",
    "# max depth 20\n",
    "# 51%\n",
    "\n",
    "# best params with 10 est and rs 33:\n",
    "# n est 80\n",
    "# min samp split 28\n",
    "# max feat none\n",
    "# max depth 25\n",
    "# 53%\n",
    "\n",
    "# best params with 10 est and rs 11:\n",
    "# n est 40\n",
    "# min samp split 12\n",
    "# max feat none\n",
    "# max depth 25\n",
    "# 53%\n",
    "\n",
    "# with full dataset with 10 iters 63%\n",
    "# n est = 80,\n",
    "# 20k samples max,\n",
    "# max features none\n",
    "# max depth 25\n",
    "\n",
    "# with full dataset with 100 iters 63%\n",
    "# n est = 50,\n",
    "# 30k samples max,\n",
    "# max features none\n",
    "# max depth 25\n",
    "\n",
    "## with full dataset with 10 iters 64%\n",
    "# n est = 150,\n",
    "# 20k samples max,\n",
    "# max features none\n",
    "# max depth 30\n",
    "# 6 split\n",
    "\n",
    "# with 100 iters 65%\n",
    "#{'n_estimators': 190,\n",
    "# 'min_samples_split': 2,\n",
    "# 'max_samples': 20000,\n",
    "# 'max_features': None,\n",
    "# 'max_depth': 40}\n",
    "\n",
    "# with 10 iters 67%\n",
    "#{'n_estimators': 150,\n",
    "# 'min_samples_split': 2,\n",
    "# 'max_features': None,\n",
    "# 'max_depth': 50}"
   ]
  },
  {
   "cell_type": "code",
   "execution_count": 31,
   "id": "329f43ef",
   "metadata": {},
   "outputs": [
    {
     "data": {
      "text/plain": [
       "{'Training MAE': 22136.913395572235,\n",
       " 'Valid MAE': 43404.027167720924,\n",
       " 'Training MSE': 0.027553397202362523,\n",
       " 'Validation MSE': 0.0841490231458611,\n",
       " 'Training R^2': 0.9284728632266984,\n",
       " 'Valid R^2': 0.6662459109933117}"
      ]
     },
     "execution_count": 31,
     "metadata": {},
     "output_type": "execute_result"
    }
   ],
   "source": [
    "evaluate_metrics(rs_model)"
   ]
  },
  {
   "cell_type": "code",
   "execution_count": null,
   "id": "2f751234",
   "metadata": {},
   "outputs": [
    {
     "name": "stdout",
     "output_type": "stream",
     "text": [
      "Fitting 3 folds for each of 16320 candidates, totalling 48960 fits\n"
     ]
    }
   ],
   "source": [
    "# gridsearch cv for exhaustive\n",
    "gs_grid = {'n_estimators': np.arange(30, 200, 10),\n",
    "           'min_samples_split': np.arange(2, 32, 2),\n",
    "           'min_samples_leaf': [1,2],\n",
    "           'max_features': [None, 'sqrt'],\n",
    "           'max_depth': np.arange(20, 100, 5)}\n",
    "\n",
    "gs_model = GridSearchCV(RandomForestRegressor(random_state=11, n_jobs=-1), param_grid=gs_grid, cv=3, verbose=True, error_score='raise')\n",
    "\n",
    "gs_model.fit(X_train, y_train)"
   ]
  },
  {
   "cell_type": "code",
   "execution_count": null,
   "id": "a720a5ee",
   "metadata": {},
   "outputs": [],
   "source": [
    "gs_model.best_params_"
   ]
  },
  {
   "cell_type": "code",
   "execution_count": null,
   "id": "700faab8",
   "metadata": {},
   "outputs": [],
   "source": [
    "evaluate_metrics(gs_model)"
   ]
  },
  {
   "cell_type": "code",
   "execution_count": null,
   "id": "7d018482",
   "metadata": {},
   "outputs": [],
   "source": [
    "# compare metrics"
   ]
  }
 ],
 "metadata": {
  "kernelspec": {
   "display_name": "Python 3 (ipykernel)",
   "language": "python",
   "name": "python3"
  },
  "language_info": {
   "codemirror_mode": {
    "name": "ipython",
    "version": 3
   },
   "file_extension": ".py",
   "mimetype": "text/x-python",
   "name": "python",
   "nbconvert_exporter": "python",
   "pygments_lexer": "ipython3",
   "version": "3.10.6"
  }
 },
 "nbformat": 4,
 "nbformat_minor": 5
}
